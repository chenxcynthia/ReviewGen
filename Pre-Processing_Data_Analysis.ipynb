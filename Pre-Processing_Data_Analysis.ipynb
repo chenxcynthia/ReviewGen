{
 "cells": [
  {
   "cell_type": "markdown",
   "id": "363f6268",
   "metadata": {},
   "source": [
    "# Imports & Configuration"
   ]
  },
  {
   "cell_type": "code",
   "execution_count": 1,
   "id": "a21d1411",
   "metadata": {
    "ExecuteTime": {
     "end_time": "2023-05-02T01:57:27.469583Z",
     "start_time": "2023-05-02T01:57:15.024915Z"
    }
   },
   "outputs": [],
   "source": [
    "import pandas as pd\n",
    "import json"
   ]
  },
  {
   "cell_type": "markdown",
   "id": "f9c74851",
   "metadata": {},
   "source": [
    "# Helper Functions"
   ]
  },
  {
   "cell_type": "code",
   "execution_count": 2,
   "id": "53d73fe8",
   "metadata": {
    "ExecuteTime": {
     "end_time": "2023-05-02T01:57:31.818704Z",
     "start_time": "2023-05-02T01:57:31.812949Z"
    }
   },
   "outputs": [],
   "source": [
    "def split_and_label(txt, labels):\n",
    "    words = txt.split()\n",
    "    default_label = 'O'\n",
    "    cur_word = 0\n",
    "    cur_idx = 0\n",
    "    out_labels = []\n",
    "    for entry in labels:\n",
    "        st_idx, end_idx, lbl = entry\n",
    "#         print(st_idx)\n",
    "        while cur_idx < st_idx:\n",
    "            cur_idx += len(words[cur_word]) + 1\n",
    "            cur_word += 1\n",
    "            out_labels.append(default_label)\n",
    "        \n",
    "        while cur_idx < end_idx and cur_word < len(words):\n",
    "            cur_idx += len(words[cur_word]) + 1\n",
    "            cur_word += 1\n",
    "            out_labels.append(lbl)\n",
    "            \n",
    "    while cur_word < len(words):\n",
    "        out_labels.append(default_label)\n",
    "        cur_word += 1\n",
    "         \n",
    "    assert(len(words) == len(out_labels))\n",
    "\n",
    "    return words, out_labels\n",
    "\n",
    "def get_labels(txt, labels):\n",
    "    return split_and_label(txt, labels)[1]\n",
    "\n",
    "def get_words(txt, labels):\n",
    "    return split_and_label(txt, labels)[0]"
   ]
  },
  {
   "cell_type": "code",
   "execution_count": 3,
   "id": "f4a20540",
   "metadata": {
    "ExecuteTime": {
     "end_time": "2023-05-02T01:57:31.834816Z",
     "start_time": "2023-05-02T01:57:31.831212Z"
    }
   },
   "outputs": [],
   "source": [
    "def pre_process_df(df):\n",
    "    df = df[~df['review'].isna()]\n",
    "\n",
    "    df['review_no_whitespace'] = df['review'].apply(lambda r: ''.join(r.split()))\n",
    "\n",
    "    return df"
   ]
  },
  {
   "cell_type": "markdown",
   "id": "8417a10f",
   "metadata": {},
   "source": [
    "# Data Processing"
   ]
  },
  {
   "cell_type": "code",
   "execution_count": 4,
   "id": "66e0cd82",
   "metadata": {
    "ExecuteTime": {
     "end_time": "2023-05-07T17:18:09.932186Z",
     "start_time": "2023-05-07T17:18:04.342937Z"
    }
   },
   "outputs": [],
   "source": [
    "all_df = pd.read_csv('./all_processed_data_with_citations.csv')"
   ]
  },
  {
   "cell_type": "code",
   "execution_count": 5,
   "id": "b6ecfd74",
   "metadata": {
    "ExecuteTime": {
     "end_time": "2023-05-02T02:12:23.532730Z",
     "start_time": "2023-05-02T02:12:23.528112Z"
    }
   },
   "outputs": [
    {
     "data": {
      "text/plain": [
       "Index(['title', 'decision', 'abstract', 'intro', 'conference', 'review',\n",
       "       'decision_label', 'intro_len', 'abstract_len', 'review_len',\n",
       "       'ce_extract', 'ce_extract_len', 'hybrid', 'hybrid_len', 'pid', 'rid',\n",
       "       'uid', 'confidence_str', 'rating_str', 'paper_len', 'conclusion',\n",
       "       'conclusion_len', 'url', 'emails', 'source', 'authors', 'confidence',\n",
       "       'rating', 'decision_binary', 'review_no_whitespace', 'CitNum',\n",
       "       'logCitNum'],\n",
       "      dtype='object')"
      ]
     },
     "execution_count": 5,
     "metadata": {},
     "output_type": "execute_result"
    }
   ],
   "source": [
    "all_df.columns"
   ]
  },
  {
   "cell_type": "code",
   "execution_count": 6,
   "id": "3f24dd3d",
   "metadata": {},
   "outputs": [],
   "source": [
    "# Aspect Score Results\n",
    "with open(f\"22k_result.jsonl\", encoding=\"utf8\") as f:\n",
    "    lines = f.read().splitlines()\n",
    "        \n",
    "asp_df = pd.DataFrame([json.loads(line) for line in lines])\n"
   ]
  },
  {
   "cell_type": "code",
   "execution_count": 7,
   "id": "b8077711",
   "metadata": {
    "ExecuteTime": {
     "end_time": "2023-05-02T01:57:42.388352Z",
     "start_time": "2023-05-02T01:57:37.252857Z"
    }
   },
   "outputs": [],
   "source": [
    "asp_df['tokens'] = asp_df.apply(lambda row: get_words(row['text'], row['labels']), axis=1)\n",
    "asp_df['tk_labels'] = asp_df.apply(lambda row: get_labels(row['text'], row['labels']), axis=1)"
   ]
  },
  {
   "cell_type": "code",
   "execution_count": 8,
   "id": "8929a8ca",
   "metadata": {
    "ExecuteTime": {
     "end_time": "2023-05-02T01:57:42.405654Z",
     "start_time": "2023-05-02T01:57:42.395132Z"
    }
   },
   "outputs": [],
   "source": [
    "asp_df['id'] = asp_df['id'].astype(int)"
   ]
  },
  {
   "cell_type": "code",
   "execution_count": 9,
   "id": "b4a5222a",
   "metadata": {
    "ExecuteTime": {
     "end_time": "2023-05-02T01:57:42.411535Z",
     "start_time": "2023-05-02T01:57:42.407818Z"
    }
   },
   "outputs": [
    {
     "data": {
      "text/plain": [
       "(22921, 5)"
      ]
     },
     "execution_count": 9,
     "metadata": {},
     "output_type": "execute_result"
    }
   ],
   "source": [
    "asp_df.shape"
   ]
  },
  {
   "cell_type": "code",
   "execution_count": 12,
   "id": "efc0d7ba-032a-473c-be8a-e87e2c179c02",
   "metadata": {},
   "outputs": [],
   "source": [
    "all_df['id'] = all_df.index"
   ]
  },
  {
   "cell_type": "code",
   "execution_count": 13,
   "id": "d45f1ec2",
   "metadata": {
    "ExecuteTime": {
     "end_time": "2023-05-02T01:57:42.472209Z",
     "start_time": "2023-05-02T01:57:42.413214Z"
    }
   },
   "outputs": [],
   "source": [
    "asp_df = asp_df.merge(all_df, on='id')"
   ]
  },
  {
   "cell_type": "code",
   "execution_count": null,
   "id": "715318df",
   "metadata": {
    "ExecuteTime": {
     "end_time": "2023-05-02T01:58:02.480420Z",
     "start_time": "2023-05-02T01:57:47.517819Z"
    }
   },
   "outputs": [],
   "source": [
    "# asp_df.to_csv('all_preprocessed_data_with_citations_aspect_scores.csv', index=False)"
   ]
  },
  {
   "cell_type": "markdown",
   "id": "020e84df",
   "metadata": {},
   "source": [
    " # Data Analysis - Construction of Aspect Score Data"
   ]
  },
  {
   "cell_type": "code",
   "execution_count": 14,
   "id": "0e24d532",
   "metadata": {
    "ExecuteTime": {
     "end_time": "2023-05-02T01:58:10.323105Z",
     "start_time": "2023-05-02T01:58:10.319545Z"
    }
   },
   "outputs": [],
   "source": [
    "with open('./seqlab_config.json', 'r') as infile:\n",
    "    config_js = json.load(infile)"
   ]
  },
  {
   "cell_type": "code",
   "execution_count": 15,
   "id": "6ccf4992",
   "metadata": {
    "ExecuteTime": {
     "end_time": "2023-05-02T01:58:10.779605Z",
     "start_time": "2023-05-02T01:58:10.776812Z"
    }
   },
   "outputs": [],
   "source": [
    "labels = list(config_js['label2id'].keys())"
   ]
  },
  {
   "cell_type": "code",
   "execution_count": 16,
   "id": "a01e54c1",
   "metadata": {
    "ExecuteTime": {
     "end_time": "2023-05-02T01:58:11.224410Z",
     "start_time": "2023-05-02T01:58:11.220829Z"
    }
   },
   "outputs": [],
   "source": [
    "review = asp_df.iloc[0]['review']\n",
    "tokens = asp_df.iloc[0]['tokens']\n",
    "tk_labels = asp_df.iloc[0]['tk_labels']"
   ]
  },
  {
   "cell_type": "code",
   "execution_count": 17,
   "id": "9d0113a9",
   "metadata": {
    "ExecuteTime": {
     "end_time": "2023-05-02T01:58:11.606036Z",
     "start_time": "2023-05-02T01:58:11.592915Z"
    }
   },
   "outputs": [],
   "source": [
    "asp_df['num_tokens'] = asp_df['tokens'].map(lambda t: len(t))"
   ]
  },
  {
   "cell_type": "code",
   "execution_count": 18,
   "id": "895670dd",
   "metadata": {
    "ExecuteTime": {
     "end_time": "2023-05-02T01:58:13.126499Z",
     "start_time": "2023-05-02T01:58:11.784658Z"
    }
   },
   "outputs": [],
   "source": [
    "from nltk import sent_tokenize"
   ]
  },
  {
   "cell_type": "code",
   "execution_count": 19,
   "id": "b180daed",
   "metadata": {
    "ExecuteTime": {
     "end_time": "2023-05-02T01:58:13.134555Z",
     "start_time": "2023-05-02T01:58:13.132130Z"
    }
   },
   "outputs": [],
   "source": [
    "from collections import defaultdict"
   ]
  },
  {
   "cell_type": "code",
   "execution_count": 23,
   "id": "dc8f0d9f",
   "metadata": {
    "ExecuteTime": {
     "end_time": "2023-05-02T01:58:13.142185Z",
     "start_time": "2023-05-02T01:58:13.137427Z"
    }
   },
   "outputs": [],
   "source": [
    "def get_lbl_sent_map(tokens, tk_labels):\n",
    "    st_tk_idx = 0\n",
    "    cur_tk_idx = 0\n",
    "\n",
    "    sent_labels = set()\n",
    "\n",
    "    lbl_sent_dict = defaultdict(list)\n",
    "    for i in range(len(tokens)):\n",
    "        if tk_labels[i] != 'O':\n",
    "            sent_labels.add(tk_labels[i])\n",
    "\n",
    "        if tokens[i] in ['.', '?', '!']:\n",
    "            for sent_lbl in sent_labels:\n",
    "                lbl_sent_dict[f'{sent_lbl}_tokens'].extend(tokens[st_tk_idx:i+1])\n",
    "                lbl_sent_dict[f'{sent_lbl}_tk_labels'].extend(tokens[st_tk_idx:i+1])\n",
    "\n",
    "            sent_labels = set()\n",
    "            st_tk_idx = i+1\n",
    "\n",
    "    return lbl_sent_dict"
   ]
  },
  {
   "cell_type": "code",
   "execution_count": 24,
   "id": "4dcce553",
   "metadata": {
    "ExecuteTime": {
     "end_time": "2023-05-02T01:58:16.338780Z",
     "start_time": "2023-05-02T01:58:13.144331Z"
    }
   },
   "outputs": [],
   "source": [
    "entries = []\n",
    "\n",
    "for i, row in asp_df.iterrows():\n",
    "    tokens = row['tokens']\n",
    "    tk_labels = row['tk_labels']\n",
    "    assert(len(tokens) == len(tk_labels))\n",
    "    \n",
    "    entry = get_lbl_sent_map(tokens, tk_labels)\n",
    "    \n",
    "    entries.append(entry)"
   ]
  },
  {
   "cell_type": "code",
   "execution_count": 25,
   "id": "92cb2dfb",
   "metadata": {
    "ExecuteTime": {
     "end_time": "2023-05-02T22:02:54.622843Z",
     "start_time": "2023-05-02T22:02:54.498871Z"
    }
   },
   "outputs": [],
   "source": [
    "df = pd.DataFrame(entries)\n",
    "df['id'] = df.index"
   ]
  },
  {
   "cell_type": "code",
   "execution_count": 26,
   "id": "8ef318f3",
   "metadata": {
    "ExecuteTime": {
     "end_time": "2023-05-02T22:02:55.477224Z",
     "start_time": "2023-05-02T22:02:55.327256Z"
    }
   },
   "outputs": [],
   "source": [
    "asp_combined_df = asp_df.merge(df, on='id')"
   ]
  },
  {
   "cell_type": "code",
   "execution_count": 27,
   "id": "0b06cb2b",
   "metadata": {
    "ExecuteTime": {
     "end_time": "2023-05-02T22:02:56.672166Z",
     "start_time": "2023-05-02T22:02:56.215923Z"
    }
   },
   "outputs": [],
   "source": [
    "asp_combined_df['text_len'] = asp_combined_df['text'].apply(lambda t: len(t.split(' ')))"
   ]
  },
  {
   "cell_type": "code",
   "execution_count": 28,
   "id": "0e575d60",
   "metadata": {
    "ExecuteTime": {
     "end_time": "2023-05-02T22:02:56.942347Z",
     "start_time": "2023-05-02T22:02:56.931583Z"
    }
   },
   "outputs": [
    {
     "data": {
      "text/plain": [
       "count    22921.000000\n",
       "mean       374.786353\n",
       "std        246.088008\n",
       "min          2.000000\n",
       "25%        208.000000\n",
       "50%        317.000000\n",
       "75%        477.000000\n",
       "max       3900.000000\n",
       "Name: review_len, dtype: float64"
      ]
     },
     "execution_count": 28,
     "metadata": {},
     "output_type": "execute_result"
    }
   ],
   "source": [
    "asp_combined_df['review_len'].describe()"
   ]
  },
  {
   "cell_type": "code",
   "execution_count": 29,
   "id": "24371da2",
   "metadata": {
    "ExecuteTime": {
     "end_time": "2023-05-02T22:02:57.459138Z",
     "start_time": "2023-05-02T22:02:57.452255Z"
    }
   },
   "outputs": [
    {
     "data": {
      "text/plain": [
       "count    22921.000000\n",
       "mean       427.443654\n",
       "std        288.410504\n",
       "min          3.000000\n",
       "25%        234.000000\n",
       "50%        359.000000\n",
       "75%        544.000000\n",
       "max       4506.000000\n",
       "Name: text_len, dtype: float64"
      ]
     },
     "execution_count": 29,
     "metadata": {},
     "output_type": "execute_result"
    }
   ],
   "source": [
    "asp_combined_df['text_len'].describe()"
   ]
  },
  {
   "cell_type": "code",
   "execution_count": 30,
   "id": "20296259",
   "metadata": {
    "ExecuteTime": {
     "end_time": "2023-05-02T22:02:59.954310Z",
     "start_time": "2023-05-02T22:02:58.550935Z"
    }
   },
   "outputs": [],
   "source": [
    "for lbl in labels[1:]:\n",
    "    asp_combined_df[f'{lbl}_tokens'] = asp_combined_df[f'{lbl}_tokens'].apply(lambda d: d if isinstance(d, list) else [])\n",
    "    asp_combined_df[f'{lbl}_review'] = asp_combined_df[f'{lbl}_tokens'].apply(lambda d: ' '.join(d))\n",
    "    asp_combined_df[f'{lbl}_length'] = asp_combined_df[f'{lbl}_tokens'].apply(lambda d: len(d))\n",
    "    asp_combined_df[f'{lbl}_prop'] = asp_combined_df[f'{lbl}_length'] / asp_combined_df['review_len']\n"
   ]
  },
  {
   "cell_type": "code",
   "execution_count": 31,
   "id": "2325721f",
   "metadata": {
    "ExecuteTime": {
     "end_time": "2023-05-02T22:03:03.028344Z",
     "start_time": "2023-05-02T22:02:59.957454Z"
    }
   },
   "outputs": [],
   "source": [
    "full_text_df = pd.read_csv('./all_with_full_text.csv')"
   ]
  },
  {
   "cell_type": "code",
   "execution_count": 32,
   "id": "82a02275",
   "metadata": {
    "ExecuteTime": {
     "end_time": "2023-05-02T22:03:04.768405Z",
     "start_time": "2023-05-02T22:03:03.031147Z"
    }
   },
   "outputs": [],
   "source": [
    "full_text_df['full_text_len'] = full_text_df['full_text'].apply(lambda c: len(c.split(' ')))"
   ]
  },
  {
   "cell_type": "code",
   "execution_count": 33,
   "id": "1ce64391",
   "metadata": {
    "ExecuteTime": {
     "end_time": "2023-05-02T22:03:04.778803Z",
     "start_time": "2023-05-02T22:03:04.771370Z"
    }
   },
   "outputs": [
    {
     "data": {
      "text/plain": [
       "count     7136.000000\n",
       "mean      4979.109445\n",
       "std       1533.148746\n",
       "min        800.000000\n",
       "25%       4174.750000\n",
       "50%       4696.000000\n",
       "75%       5368.250000\n",
       "max      29151.000000\n",
       "Name: full_text_len, dtype: float64"
      ]
     },
     "execution_count": 33,
     "metadata": {},
     "output_type": "execute_result"
    }
   ],
   "source": [
    "full_text_df['full_text_len'].describe()"
   ]
  },
  {
   "cell_type": "code",
   "execution_count": 34,
   "id": "b3aa4a8a",
   "metadata": {
    "ExecuteTime": {
     "end_time": "2023-05-02T22:03:16.643075Z",
     "start_time": "2023-05-02T22:03:16.459814Z"
    }
   },
   "outputs": [
    {
     "data": {
      "text/plain": [
       "<AxesSubplot:>"
      ]
     },
     "execution_count": 34,
     "metadata": {},
     "output_type": "execute_result"
    },
    {
     "data": {
      "image/png": "[encoded data removed]",
      "text/plain": [
       "<Figure size 432x288 with 1 Axes>"
      ]
     },
     "metadata": {
      "needs_background": "light"
     },
     "output_type": "display_data"
    }
   ],
   "source": [
    "full_text_df['full_text_len'].hist()"
   ]
  },
  {
   "cell_type": "code",
   "execution_count": 35,
   "id": "16e9189f",
   "metadata": {
    "ExecuteTime": {
     "end_time": "2023-05-02T22:03:18.231028Z",
     "start_time": "2023-05-02T22:03:17.983375Z"
    }
   },
   "outputs": [],
   "source": [
    "asp_combined_df = asp_combined_df.merge(full_text_df[['title', 'full_text', 'full_text_len']].drop_duplicates('title'),\n",
    "                                        on='title', \n",
    "                                        how='inner')"
   ]
  },
  {
   "cell_type": "code",
   "execution_count": 36,
   "id": "b81658ee",
   "metadata": {
    "ExecuteTime": {
     "end_time": "2023-05-02T22:03:19.028994Z",
     "start_time": "2023-05-02T22:03:19.022468Z"
    }
   },
   "outputs": [
    {
     "data": {
      "text/plain": [
       "count    22921.000000\n",
       "mean       160.052005\n",
       "std         51.237367\n",
       "min         12.000000\n",
       "25%        128.000000\n",
       "50%        156.000000\n",
       "75%        187.000000\n",
       "max       1970.000000\n",
       "Name: abstract_len, dtype: float64"
      ]
     },
     "execution_count": 36,
     "metadata": {},
     "output_type": "execute_result"
    }
   ],
   "source": [
    "asp_combined_df['abstract_len'].describe()"
   ]
  },
  {
   "cell_type": "code",
   "execution_count": 37,
   "id": "ba37d0e5",
   "metadata": {
    "ExecuteTime": {
     "end_time": "2023-05-02T22:03:58.264820Z",
     "start_time": "2023-05-02T22:03:19.941944Z"
    }
   },
   "outputs": [],
   "source": [
    "asp_combined_df.to_csv('./all_pp_df_with_as_breakdowns_full_text.csv', index=False)"
   ]
  },
  {
   "cell_type": "markdown",
   "id": "074714aa",
   "metadata": {},
   "source": [
    "## Plots and Figures"
   ]
  },
  {
   "cell_type": "code",
   "execution_count": 38,
   "id": "18b4c467",
   "metadata": {
    "ExecuteTime": {
     "end_time": "2023-05-06T02:05:46.813222Z",
     "start_time": "2023-05-06T02:05:46.324988Z"
    }
   },
   "outputs": [],
   "source": [
    "import seaborn as sns"
   ]
  },
  {
   "cell_type": "code",
   "execution_count": 39,
   "id": "e5a5793e",
   "metadata": {},
   "outputs": [
    {
     "data": {
      "text/html": [
       "<div>\n",
       "<style scoped>\n",
       "    .dataframe tbody tr th:only-of-type {\n",
       "        vertical-align: middle;\n",
       "    }\n",
       "\n",
       "    .dataframe tbody tr th {\n",
       "        vertical-align: top;\n",
       "    }\n",
       "\n",
       "    .dataframe thead th {\n",
       "        text-align: right;\n",
       "    }\n",
       "</style>\n",
       "<table border=\"1\" class=\"dataframe\">\n",
       "  <thead>\n",
       "    <tr style=\"text-align: right;\">\n",
       "      <th></th>\n",
       "      <th>review_len</th>\n",
       "      <th>full_text_len</th>\n",
       "      <th>rating</th>\n",
       "      <th>confidence</th>\n",
       "    </tr>\n",
       "  </thead>\n",
       "  <tbody>\n",
       "    <tr>\n",
       "      <th>count</th>\n",
       "      <td>22921.0</td>\n",
       "      <td>22921.0</td>\n",
       "      <td>12371.0</td>\n",
       "      <td>9747.0</td>\n",
       "    </tr>\n",
       "    <tr>\n",
       "      <th>mean</th>\n",
       "      <td>375.0</td>\n",
       "      <td>4959.0</td>\n",
       "      <td>5.0</td>\n",
       "      <td>4.0</td>\n",
       "    </tr>\n",
       "    <tr>\n",
       "      <th>std</th>\n",
       "      <td>246.0</td>\n",
       "      <td>1510.0</td>\n",
       "      <td>2.0</td>\n",
       "      <td>1.0</td>\n",
       "    </tr>\n",
       "    <tr>\n",
       "      <th>min</th>\n",
       "      <td>2.0</td>\n",
       "      <td>800.0</td>\n",
       "      <td>1.0</td>\n",
       "      <td>1.0</td>\n",
       "    </tr>\n",
       "    <tr>\n",
       "      <th>25%</th>\n",
       "      <td>208.0</td>\n",
       "      <td>4172.0</td>\n",
       "      <td>3.0</td>\n",
       "      <td>3.0</td>\n",
       "    </tr>\n",
       "    <tr>\n",
       "      <th>50%</th>\n",
       "      <td>317.0</td>\n",
       "      <td>4684.0</td>\n",
       "      <td>5.0</td>\n",
       "      <td>4.0</td>\n",
       "    </tr>\n",
       "    <tr>\n",
       "      <th>75%</th>\n",
       "      <td>477.0</td>\n",
       "      <td>5340.0</td>\n",
       "      <td>6.0</td>\n",
       "      <td>4.0</td>\n",
       "    </tr>\n",
       "    <tr>\n",
       "      <th>max</th>\n",
       "      <td>3900.0</td>\n",
       "      <td>29151.0</td>\n",
       "      <td>10.0</td>\n",
       "      <td>5.0</td>\n",
       "    </tr>\n",
       "  </tbody>\n",
       "</table>\n",
       "</div>"
      ],
      "text/plain": [
       "       review_len  full_text_len   rating  confidence\n",
       "count     22921.0        22921.0  12371.0      9747.0\n",
       "mean        375.0         4959.0      5.0         4.0\n",
       "std         246.0         1510.0      2.0         1.0\n",
       "min           2.0          800.0      1.0         1.0\n",
       "25%         208.0         4172.0      3.0         3.0\n",
       "50%         317.0         4684.0      5.0         4.0\n",
       "75%         477.0         5340.0      6.0         4.0\n",
       "max        3900.0        29151.0     10.0         5.0"
      ]
     },
     "execution_count": 39,
     "metadata": {},
     "output_type": "execute_result"
    }
   ],
   "source": [
    "asp_combined_df[['review_len', 'full_text_len', 'rating', 'confidence']].describe().apply(lambda s: round(s))"
   ]
  },
  {
   "cell_type": "code",
   "execution_count": 40,
   "id": "b55e2a92",
   "metadata": {
    "ExecuteTime": {
     "end_time": "2023-05-06T03:56:15.701723Z",
     "start_time": "2023-05-06T03:56:15.675603Z"
    }
   },
   "outputs": [
    {
     "data": {
      "text/html": [
       "<div>\n",
       "<style scoped>\n",
       "    .dataframe tbody tr th:only-of-type {\n",
       "        vertical-align: middle;\n",
       "    }\n",
       "\n",
       "    .dataframe tbody tr th {\n",
       "        vertical-align: top;\n",
       "    }\n",
       "\n",
       "    .dataframe thead th {\n",
       "        text-align: right;\n",
       "    }\n",
       "</style>\n",
       "<table border=\"1\" class=\"dataframe\">\n",
       "  <thead>\n",
       "    <tr style=\"text-align: right;\">\n",
       "      <th></th>\n",
       "      <th>review_len</th>\n",
       "      <th>full_text_len</th>\n",
       "      <th>rating</th>\n",
       "      <th>confidence</th>\n",
       "      <th>CitNum</th>\n",
       "    </tr>\n",
       "  </thead>\n",
       "  <tbody>\n",
       "    <tr>\n",
       "      <th>count</th>\n",
       "      <td>22921.0</td>\n",
       "      <td>22921.0</td>\n",
       "      <td>12371.0</td>\n",
       "      <td>9747.0</td>\n",
       "      <td>20545.0</td>\n",
       "    </tr>\n",
       "    <tr>\n",
       "      <th>mean</th>\n",
       "      <td>375.0</td>\n",
       "      <td>4959.0</td>\n",
       "      <td>5.0</td>\n",
       "      <td>4.0</td>\n",
       "      <td>185.0</td>\n",
       "    </tr>\n",
       "    <tr>\n",
       "      <th>std</th>\n",
       "      <td>246.0</td>\n",
       "      <td>1510.0</td>\n",
       "      <td>2.0</td>\n",
       "      <td>1.0</td>\n",
       "      <td>1025.0</td>\n",
       "    </tr>\n",
       "    <tr>\n",
       "      <th>min</th>\n",
       "      <td>2.0</td>\n",
       "      <td>800.0</td>\n",
       "      <td>1.0</td>\n",
       "      <td>1.0</td>\n",
       "      <td>1.0</td>\n",
       "    </tr>\n",
       "    <tr>\n",
       "      <th>5%</th>\n",
       "      <td>104.0</td>\n",
       "      <td>3424.0</td>\n",
       "      <td>1.0</td>\n",
       "      <td>2.0</td>\n",
       "      <td>2.0</td>\n",
       "    </tr>\n",
       "    <tr>\n",
       "      <th>25%</th>\n",
       "      <td>208.0</td>\n",
       "      <td>4172.0</td>\n",
       "      <td>3.0</td>\n",
       "      <td>3.0</td>\n",
       "      <td>15.0</td>\n",
       "    </tr>\n",
       "    <tr>\n",
       "      <th>50%</th>\n",
       "      <td>317.0</td>\n",
       "      <td>4684.0</td>\n",
       "      <td>5.0</td>\n",
       "      <td>4.0</td>\n",
       "      <td>44.0</td>\n",
       "    </tr>\n",
       "    <tr>\n",
       "      <th>75%</th>\n",
       "      <td>477.0</td>\n",
       "      <td>5340.0</td>\n",
       "      <td>6.0</td>\n",
       "      <td>4.0</td>\n",
       "      <td>128.0</td>\n",
       "    </tr>\n",
       "    <tr>\n",
       "      <th>95%</th>\n",
       "      <td>843.0</td>\n",
       "      <td>7362.0</td>\n",
       "      <td>8.0</td>\n",
       "      <td>5.0</td>\n",
       "      <td>670.0</td>\n",
       "    </tr>\n",
       "    <tr>\n",
       "      <th>max</th>\n",
       "      <td>3900.0</td>\n",
       "      <td>29151.0</td>\n",
       "      <td>10.0</td>\n",
       "      <td>5.0</td>\n",
       "      <td>71907.0</td>\n",
       "    </tr>\n",
       "  </tbody>\n",
       "</table>\n",
       "</div>"
      ],
      "text/plain": [
       "       review_len  full_text_len   rating  confidence   CitNum\n",
       "count     22921.0        22921.0  12371.0      9747.0  20545.0\n",
       "mean        375.0         4959.0      5.0         4.0    185.0\n",
       "std         246.0         1510.0      2.0         1.0   1025.0\n",
       "min           2.0          800.0      1.0         1.0      1.0\n",
       "5%          104.0         3424.0      1.0         2.0      2.0\n",
       "25%         208.0         4172.0      3.0         3.0     15.0\n",
       "50%         317.0         4684.0      5.0         4.0     44.0\n",
       "75%         477.0         5340.0      6.0         4.0    128.0\n",
       "95%         843.0         7362.0      8.0         5.0    670.0\n",
       "max        3900.0        29151.0     10.0         5.0  71907.0"
      ]
     },
     "execution_count": 40,
     "metadata": {},
     "output_type": "execute_result"
    }
   ],
   "source": [
    "asp_combined_df[['review_len', 'full_text_len', 'rating', 'confidence', 'CitNum']].describe(\n",
    "    [0.05, .25, .5, .75, 0.95]).apply(lambda s: round(s))"
   ]
  },
  {
   "cell_type": "code",
   "execution_count": 41,
   "id": "a7cb307e",
   "metadata": {
    "ExecuteTime": {
     "end_time": "2023-05-06T02:06:03.298589Z",
     "start_time": "2023-05-06T02:05:47.901689Z"
    }
   },
   "outputs": [
    {
     "data": {
      "text/plain": [
       "<AxesSubplot:xlabel='Count', ylabel='CitNum'>"
      ]
     },
     "execution_count": 41,
     "metadata": {},
     "output_type": "execute_result"
    },
    {
     "data": {
      "image/png": "[encoded data removed]",
      "text/plain": [
       "<Figure size 432x288 with 1 Axes>"
      ]
     },
     "metadata": {
      "needs_background": "light"
     },
     "output_type": "display_data"
    }
   ],
   "source": [
    "sns.histplot(\n",
    "    data=asp_combined_df,\n",
    "    y='CitNum'\n",
    ")"
   ]
  },
  {
   "cell_type": "code",
   "execution_count": 42,
   "id": "0277b55d",
   "metadata": {
    "ExecuteTime": {
     "end_time": "2023-04-26T05:42:04.853163Z",
     "start_time": "2023-04-26T05:42:04.609758Z"
    }
   },
   "outputs": [
    {
     "data": {
      "text/plain": [
       "<AxesSubplot:xlabel='Count', ylabel='logCitNum'>"
      ]
     },
     "execution_count": 42,
     "metadata": {},
     "output_type": "execute_result"
    },
    {
     "data": {
      "image/png": "[encoded data removed]",
      "text/plain": [
       "<Figure size 432x288 with 1 Axes>"
      ]
     },
     "metadata": {
      "needs_background": "light"
     },
     "output_type": "display_data"
    }
   ],
   "source": [
    "sns.histplot(\n",
    "    data=asp_combined_df,\n",
    "    y='logCitNum'\n",
    ")"
   ]
  },
  {
   "cell_type": "code",
   "execution_count": 43,
   "id": "23912208",
   "metadata": {
    "ExecuteTime": {
     "end_time": "2023-04-26T05:41:31.360084Z",
     "start_time": "2023-04-26T05:41:31.189946Z"
    }
   },
   "outputs": [
    {
     "data": {
      "text/plain": [
       "<AxesSubplot:>"
      ]
     },
     "execution_count": 43,
     "metadata": {},
     "output_type": "execute_result"
    },
    {
     "data": {
      "image/png": "[encoded data removed]",
      "text/plain": [
       "<Figure size 432x288 with 1 Axes>"
      ]
     },
     "metadata": {
      "needs_background": "light"
     },
     "output_type": "display_data"
    }
   ],
   "source": [
    "asp_combined_df['logCitNum'].hist()"
   ]
  },
  {
   "cell_type": "code",
   "execution_count": 44,
   "id": "e8a7ccb1",
   "metadata": {
    "ExecuteTime": {
     "end_time": "2023-04-25T15:48:59.986097Z",
     "start_time": "2023-04-25T15:48:59.983748Z"
    }
   },
   "outputs": [],
   "source": [
    "import seaborn as sns"
   ]
  },
  {
   "cell_type": "code",
   "execution_count": 45,
   "id": "56ffce05",
   "metadata": {
    "ExecuteTime": {
     "end_time": "2023-04-25T15:49:00.348895Z",
     "start_time": "2023-04-25T15:49:00.346586Z"
    }
   },
   "outputs": [],
   "source": [
    "import matplotlib.pyplot as plt"
   ]
  },
  {
   "cell_type": "code",
   "execution_count": 48,
   "id": "e29d2533",
   "metadata": {
    "ExecuteTime": {
     "end_time": "2023-04-26T01:37:01.209594Z",
     "start_time": "2023-04-26T01:36:44.538222Z"
    }
   },
   "outputs": [],
   "source": [
    "# asp_combined_df[\n",
    "#     (asp_combined_df['clarity_positive_length'] > 0) | (asp_combined_df['clarity_negative_length'] > 0)\n",
    "# ].to_csv('clarity_preprocessed_df.csv', index=False)"
   ]
  },
  {
   "cell_type": "code",
   "execution_count": 49,
   "id": "f13d6b2e",
   "metadata": {
    "ExecuteTime": {
     "end_time": "2023-04-26T01:37:01.213857Z",
     "start_time": "2023-04-26T01:36:48.714Z"
    }
   },
   "outputs": [],
   "source": [
    "# asp_combined_df[\n",
    "#     asp_combined_df['summary_length'] > 0\n",
    "# ].to_csv('summary_preprocessed_df.csv', index=False)"
   ]
  },
  {
   "cell_type": "code",
   "execution_count": 50,
   "id": "e01c3e61",
   "metadata": {
    "ExecuteTime": {
     "end_time": "2023-04-25T19:24:26.681987Z",
     "start_time": "2023-04-25T19:24:26.673286Z"
    }
   },
   "outputs": [],
   "source": [
    "categories = {\n",
    "    'originality', 'meaningful_comparison', 'replicability', 'clarity', 'substance', 'soundness', 'motivation'\n",
    "}"
   ]
  },
  {
   "cell_type": "code",
   "execution_count": null,
   "id": "f7cc3bf9-49e7-463a-9042-4cadc17a5e75",
   "metadata": {},
   "outputs": [],
   "source": []
  },
  {
   "cell_type": "code",
   "execution_count": 52,
   "id": "bd107431",
   "metadata": {
    "ExecuteTime": {
     "end_time": "2023-04-25T19:24:38.826292Z",
     "start_time": "2023-04-25T19:24:38.695424Z"
    }
   },
   "outputs": [],
   "source": [
    "import numpy as np\n",
    "\n",
    "summary_entries = []\n",
    "for cat in categories:\n",
    "    filter_df = asp_combined_df[(asp_combined_df[f'{cat}_positive_length'] > 0) |\n",
    "                                (asp_combined_df[f'{cat}_negative_length'] > 0)\n",
    "                                ]\n",
    "    \n",
    "    entry = {\n",
    "        'section': cat,\n",
    "        'section_general': cat,\n",
    "        'mean_review_proportion': np.mean(filter_df[f'{cat}_positive_prop'] + filter_df[f'{cat}_negative_prop']),\n",
    "        '90th_percentile_review_proportion': (filter_df[f'{cat}_positive_prop'] + filter_df[f'{cat}_negative_prop']).quantile(0.90),\n",
    "        '99th_percentile_review_proportion': (filter_df[f'{cat}_positive_prop'] + filter_df[f'{cat}_negative_prop']).quantile(0.99),\n",
    "        'frequency': len(filter_df) / len(asp_combined_df),\n",
    "        'mean_length': np.mean(filter_df[f'{cat}_positive_length'] + filter_df[f'{cat}_negative_length'])\n",
    "    }\n",
    "    \n",
    "    summary_entries.append(entry)"
   ]
  },
  {
   "cell_type": "code",
   "execution_count": 53,
   "id": "8396f8f3",
   "metadata": {
    "ExecuteTime": {
     "end_time": "2023-04-25T19:24:45.826852Z",
     "start_time": "2023-04-25T19:24:39.102482Z"
    }
   },
   "outputs": [
    {
     "name": "stdout",
     "output_type": "stream",
     "text": [
      "clarity_negative\n",
      "0.044584096804949826\n",
      "0.14857142857142858\n",
      "0.41968139193311443\n",
      "0.357750534444396\n",
      "clarity_positive\n",
      "0.04845601403497073\n",
      "0.14521452145214522\n",
      "0.4538002980625904\n",
      "0.4246324331399154\n",
      "meaningful_comparison_negative\n",
      "0.026498485371955944\n",
      "0.0962566844919786\n",
      "0.32274397713352376\n",
      "0.23406483137733955\n",
      "meaningful_comparison_positive\n",
      "0.0048134077300859305\n",
      "0.0\n",
      "0.12963412391983786\n",
      "0.05021595916408534\n",
      "motivation_negative\n",
      "0.011132262650057446\n",
      "0.020994475138121547\n",
      "0.2235628386414694\n",
      "0.10601631691461978\n",
      "motivation_positive\n",
      "0.039032126517352925\n",
      "0.1301775147928994\n",
      "0.40423337856173563\n",
      "0.324156886697788\n",
      "originality_negative\n",
      "0.03392024955816571\n",
      "0.11885245901639344\n",
      "0.4347459181801503\n",
      "0.23991099864752846\n",
      "originality_positive\n",
      "0.04429680953646951\n",
      "0.14189189189189189\n",
      "0.44312277823352375\n",
      "0.3494611927926356\n",
      "replicability_negative\n",
      "0.01363507906805835\n",
      "0.040100250626566414\n",
      "0.23852813852813814\n",
      "0.13838837747044194\n",
      "replicability_positive\n",
      "0.0008728936889097399\n",
      "0.0\n",
      "0.0\n",
      "0.009685441298372672\n",
      "soundness_negative\n",
      "0.04855232362104002\n",
      "0.15873015873015872\n",
      "0.4165703275529862\n",
      "0.38196413769032767\n",
      "soundness_positive\n",
      "0.04672683533966973\n",
      "0.14937759336099585\n",
      "0.460181818181818\n",
      "0.37083896863138605\n",
      "substance_negative\n",
      "0.03747830268257436\n",
      "0.128099173553719\n",
      "0.3833702532506762\n",
      "0.31172287422014744\n",
      "substance_positive\n",
      "0.01847445123668397\n",
      "0.05714285714285714\n",
      "0.31878949710725313\n",
      "0.1576283757253174\n",
      "summary\n",
      "0.24701309529631535\n",
      "0.5285714285714286\n",
      "0.9239010989010982\n",
      "0.9037563806116662\n"
     ]
    },
    {
     "data": {
      "image/png": "[encoded data removed]",
      "text/plain": [
       "<Figure size 1152x8640 with 15 Axes>"
      ]
     },
     "metadata": {
      "needs_background": "light"
     },
     "output_type": "display_data"
    }
   ],
   "source": [
    "fig, axes = plt.subplots(len(labels[1:]), 1)\n",
    "\n",
    "fig.set_size_inches(16, 8*len(labels[1:]))\n",
    "\n",
    "# summary_entries = []\n",
    "\n",
    "for i, lbl in enumerate(labels[1:]):\n",
    "    print(lbl)\n",
    "    entry = {\n",
    "        'section': lbl,\n",
    "        'section_general': lbl.split('_')[0] if '_' in lbl else lbl,\n",
    "        'mean_review_proportion': asp_combined_df[asp_combined_df[f'{lbl}_length'] > 0][f'{lbl}_prop'].mean(),\n",
    "        '90th_percentile_review_proportion': asp_combined_df[f'{lbl}_prop'].quantile(0.90),\n",
    "        '99th_percentile_review_proportion': asp_combined_df[f'{lbl}_prop'].quantile(0.90) ,\n",
    "        'frequency': len(asp_combined_df[asp_combined_df[f'{lbl}_length'] > 0]) / len(asp_combined_df),\n",
    "        'mean_length': asp_combined_df[asp_combined_df[f'{lbl}_length'] > 0][f'{lbl}_length'].mean()\n",
    "    }\n",
    "    \n",
    "    summary_entries.append(entry)\n",
    "    print(asp_combined_df[f'{lbl}_prop'].mean())\n",
    "    print(asp_combined_df[f'{lbl}_prop'].quantile(0.90))\n",
    "    print(asp_combined_df[f'{lbl}_prop'].quantile(0.99))\n",
    "    print(len(asp_combined_df[asp_combined_df[f'{lbl}_length'] > 0]) / len(asp_combined_df))\n",
    "    \n",
    "    sns.histplot(\n",
    "        data=asp_combined_df[f'{lbl}_prop'],\n",
    "        ax=axes[i]\n",
    "    )"
   ]
  },
  {
   "cell_type": "code",
   "execution_count": 60,
   "id": "9ee95591",
   "metadata": {
    "ExecuteTime": {
     "end_time": "2023-04-25T19:24:45.832595Z",
     "start_time": "2023-04-25T19:24:45.829217Z"
    }
   },
   "outputs": [],
   "source": [
    "sum_df = pd.DataFrame(summary_entries)\n",
    "sec_df = sum_df[sum_df['section'] == sum_df['section_general']].sort_values('frequency')"
   ]
  },
  {
   "cell_type": "code",
   "execution_count": 61,
   "id": "1b405b65",
   "metadata": {
    "ExecuteTime": {
     "end_time": "2023-04-26T02:36:36.411807Z",
     "start_time": "2023-04-26T02:36:36.406740Z"
    }
   },
   "outputs": [],
   "source": [
    "sec_df['Mean Number of Tokens in Review'] = sec_df['mean_length']"
   ]
  },
  {
   "cell_type": "code",
   "execution_count": 62,
   "id": "36e21b1c",
   "metadata": {
    "ExecuteTime": {
     "end_time": "2023-04-26T02:37:06.579120Z",
     "start_time": "2023-04-26T02:37:06.398289Z"
    }
   },
   "outputs": [
    {
     "data": {
      "text/plain": [
       "<AxesSubplot:xlabel='section', ylabel='Mean Number of Tokens in Review'>"
      ]
     },
     "execution_count": 62,
     "metadata": {},
     "output_type": "execute_result"
    },
    {
     "data": {
      "image/png": "[encoded data removed]",
      "text/plain": [
       "<Figure size 1152x576 with 1 Axes>"
      ]
     },
     "metadata": {
      "needs_background": "light"
     },
     "output_type": "display_data"
    }
   ],
   "source": [
    "fig, ax = plt.subplots(1)\n",
    "fig.set_size_inches(16, 8)\n",
    "\n",
    "sns.barplot(\n",
    "    data=sec_df.replace('meaningful_comparison', 'comparison'),\n",
    "    x='section',\n",
    "    y='Mean Number of Tokens in Review',\n",
    "    ax=ax\n",
    ")"
   ]
  },
  {
   "cell_type": "code",
   "execution_count": 63,
   "id": "7128b632",
   "metadata": {
    "ExecuteTime": {
     "end_time": "2023-04-25T20:34:25.955855Z",
     "start_time": "2023-04-25T20:34:25.953401Z"
    }
   },
   "outputs": [],
   "source": [
    "plt.rcParams['font.size'] = 16"
   ]
  },
  {
   "cell_type": "code",
   "execution_count": 64,
   "id": "5d6352cd",
   "metadata": {
    "ExecuteTime": {
     "end_time": "2023-04-25T20:34:26.325965Z",
     "start_time": "2023-04-25T20:34:26.153432Z"
    }
   },
   "outputs": [
    {
     "data": {
      "text/plain": [
       "<AxesSubplot:xlabel='section', ylabel='frequency'>"
      ]
     },
     "execution_count": 64,
     "metadata": {},
     "output_type": "execute_result"
    },
    {
     "data": {
      "image/png": "[encoded data removed]",
      "text/plain": [
       "<Figure size 1152x576 with 1 Axes>"
      ]
     },
     "metadata": {
      "needs_background": "light"
     },
     "output_type": "display_data"
    }
   ],
   "source": [
    "fig, ax = plt.subplots(1)\n",
    "\n",
    "fig.set_size_inches(16, 8)\n",
    "\n",
    "sns.barplot(\n",
    "    data=sec_df.replace('meaningful_comparison', 'comparison'),\n",
    "    x='section',\n",
    "    y='frequency', \n",
    "    ax=ax\n",
    ")\n"
   ]
  },
  {
   "cell_type": "markdown",
   "id": "2897b5f4-0647-4196-a638-1490d227f5e9",
   "metadata": {
    "ExecuteTime": {
     "end_time": "2023-04-26T02:22:34.471781Z",
     "start_time": "2023-04-26T02:22:34.386061Z"
    }
   },
   "source": [
    "## Correlation Analysis"
   ]
  },
  {
   "cell_type": "code",
   "execution_count": 68,
   "id": "ea606f44",
   "metadata": {
    "ExecuteTime": {
     "end_time": "2023-04-25T20:49:29.374175Z",
     "start_time": "2023-04-25T20:49:28.417908Z"
    }
   },
   "outputs": [],
   "source": [
    "df = asp_combined_df.copy()"
   ]
  },
  {
   "cell_type": "code",
   "execution_count": 69,
   "id": "7d40c788",
   "metadata": {
    "ExecuteTime": {
     "end_time": "2023-05-07T01:40:46.766969Z",
     "start_time": "2023-05-07T01:40:46.731013Z"
    }
   },
   "outputs": [
    {
     "data": {
      "text/plain": [
       "6323"
      ]
     },
     "execution_count": 69,
     "metadata": {},
     "output_type": "execute_result"
    }
   ],
   "source": [
    "len(asp_combined_df[asp_combined_df['CitNum'].notna()].title.unique())"
   ]
  },
  {
   "cell_type": "code",
   "execution_count": 70,
   "id": "7b3b9323",
   "metadata": {
    "ExecuteTime": {
     "end_time": "2023-05-07T01:40:24.863338Z",
     "start_time": "2023-05-07T01:40:24.842759Z"
    }
   },
   "outputs": [
    {
     "data": {
      "text/plain": [
       "count    20545.000000\n",
       "mean       184.537357\n",
       "std       1025.419967\n",
       "min          1.000000\n",
       "25%         15.000000\n",
       "50%         44.000000\n",
       "75%        128.000000\n",
       "max      71907.000000\n",
       "Name: CitNum, dtype: float64"
      ]
     },
     "execution_count": 70,
     "metadata": {},
     "output_type": "execute_result"
    }
   ],
   "source": [
    "asp_combined_df['CitNum'].describe()"
   ]
  },
  {
   "cell_type": "code",
   "execution_count": 71,
   "id": "507fac0b",
   "metadata": {
    "ExecuteTime": {
     "end_time": "2023-04-25T20:52:19.869366Z",
     "start_time": "2023-04-25T20:52:19.864056Z"
    }
   },
   "outputs": [],
   "source": [
    "length_cols = [lbl + '_length' for lbl in labels[1:]]"
   ]
  },
  {
   "cell_type": "code",
   "execution_count": 72,
   "id": "d442b52c",
   "metadata": {
    "ExecuteTime": {
     "end_time": "2023-04-25T20:58:09.259898Z",
     "start_time": "2023-04-25T20:58:09.234991Z"
    }
   },
   "outputs": [],
   "source": [
    "corr_df = df[['logCitNum'] + length_cols].corr()"
   ]
  },
  {
   "cell_type": "code",
   "execution_count": 73,
   "id": "4029c588",
   "metadata": {
    "ExecuteTime": {
     "end_time": "2023-04-25T20:59:00.563697Z",
     "start_time": "2023-04-25T20:59:00.555519Z"
    }
   },
   "outputs": [],
   "source": [
    "corr_df = corr_df.reset_index().iloc[1:]"
   ]
  },
  {
   "cell_type": "code",
   "execution_count": 74,
   "id": "3ffd9954",
   "metadata": {
    "ExecuteTime": {
     "end_time": "2023-04-25T21:00:48.257152Z",
     "start_time": "2023-04-25T21:00:48.250630Z"
    }
   },
   "outputs": [],
   "source": [
    "corr_df['label'] = corr_df['index'].apply(lambda s: s[:-7].replace('positive', '(+)').replace('negative', '(-)'))"
   ]
  },
  {
   "cell_type": "code",
   "execution_count": 75,
   "id": "5fd3ff50",
   "metadata": {
    "ExecuteTime": {
     "end_time": "2023-04-26T01:40:05.368564Z",
     "start_time": "2023-04-26T01:40:05.355053Z"
    }
   },
   "outputs": [],
   "source": [
    "corr_df['Correlation with log Citations'] = corr_df['logCitNum']"
   ]
  },
  {
   "cell_type": "code",
   "execution_count": 76,
   "id": "36710459",
   "metadata": {
    "ExecuteTime": {
     "end_time": "2023-05-07T00:30:53.960719Z",
     "start_time": "2023-05-07T00:30:53.956223Z"
    }
   },
   "outputs": [],
   "source": [
    "import matplotlib.pyplot as plt"
   ]
  },
  {
   "cell_type": "code",
   "execution_count": 77,
   "id": "5fb1ddee",
   "metadata": {
    "ExecuteTime": {
     "end_time": "2023-05-07T01:04:01.701993Z",
     "start_time": "2023-05-07T01:04:01.526484Z"
    }
   },
   "outputs": [
    {
     "data": {
      "text/plain": [
       "<AxesSubplot:xlabel='label', ylabel='Correlation with log Citations'>"
      ]
     },
     "execution_count": 77,
     "metadata": {},
     "output_type": "execute_result"
    },
    {
     "data": {
      "image/png": "[encoded data removed]",
      "text/plain": [
       "<Figure size 1152x576 with 1 Axes>"
      ]
     },
     "metadata": {
      "needs_background": "light"
     },
     "output_type": "display_data"
    }
   ],
   "source": [
    "fig, ax = plt.subplots(1)\n",
    "\n",
    "# ax.set_xticks(20, rotation=45)\n",
    "fig.set_size_inches(16, 8)\n",
    "\n",
    "sns.barplot(\n",
    "    data=corr_df[corr_df['label'].str.contains('\\-')].replace('meaningful_comparison_(-)', 'comparison_(-)'),\n",
    "    x='label',\n",
    "    y='Correlation with log Citations', \n",
    "    ax=ax\n",
    ")"
   ]
  },
  {
   "cell_type": "code",
   "execution_count": 80,
   "id": "d408455e",
   "metadata": {
    "ExecuteTime": {
     "end_time": "2023-04-26T01:40:22.126437Z",
     "start_time": "2023-04-26T01:40:21.958166Z"
    }
   },
   "outputs": [
    {
     "data": {
      "text/plain": [
       "<AxesSubplot:xlabel='label', ylabel='Correlation with log Citations'>"
      ]
     },
     "execution_count": 80,
     "metadata": {},
     "output_type": "execute_result"
    },
    {
     "data": {
      "image/png": "[encoded data removed]",
      "text/plain": [
       "<Figure size 1152x576 with 1 Axes>"
      ]
     },
     "metadata": {
      "needs_background": "light"
     },
     "output_type": "display_data"
    }
   ],
   "source": [
    "fig, ax = plt.subplots(1)\n",
    "\n",
    "fig.set_size_inches(16, 8)\n",
    "\n",
    "sns.barplot(\n",
    "    data=corr_df[corr_df['label'].str.contains('\\+')].replace('meaningful_comparison_(+)', 'comparison_(+)'),\n",
    "    x='label',\n",
    "    y='Correlation with log Citations', \n",
    "    ax=ax\n",
    ")"
   ]
  },
  {
   "cell_type": "code",
   "execution_count": 81,
   "id": "3c9eb1e2",
   "metadata": {
    "ExecuteTime": {
     "end_time": "2023-04-21T14:39:31.312573Z",
     "start_time": "2023-04-21T14:39:31.290258Z"
    }
   },
   "outputs": [
    {
     "name": "stdout",
     "output_type": "stream",
     "text": [
      "(22921, 33)\n"
     ]
    },
    {
     "data": {
      "text/html": [
       "<div>\n",
       "<style scoped>\n",
       "    .dataframe tbody tr th:only-of-type {\n",
       "        vertical-align: middle;\n",
       "    }\n",
       "\n",
       "    .dataframe tbody tr th {\n",
       "        vertical-align: top;\n",
       "    }\n",
       "\n",
       "    .dataframe thead th {\n",
       "        text-align: right;\n",
       "    }\n",
       "</style>\n",
       "<table border=\"1\" class=\"dataframe\">\n",
       "  <thead>\n",
       "    <tr style=\"text-align: right;\">\n",
       "      <th></th>\n",
       "      <th>title</th>\n",
       "      <th>decision</th>\n",
       "      <th>abstract</th>\n",
       "      <th>intro</th>\n",
       "      <th>conference</th>\n",
       "      <th>review</th>\n",
       "      <th>decision_label</th>\n",
       "      <th>intro_len</th>\n",
       "      <th>abstract_len</th>\n",
       "      <th>review_len</th>\n",
       "      <th>...</th>\n",
       "      <th>emails</th>\n",
       "      <th>source</th>\n",
       "      <th>authors</th>\n",
       "      <th>confidence</th>\n",
       "      <th>rating</th>\n",
       "      <th>decision_binary</th>\n",
       "      <th>review_no_whitespace</th>\n",
       "      <th>CitNum</th>\n",
       "      <th>logCitNum</th>\n",
       "      <th>id</th>\n",
       "    </tr>\n",
       "  </thead>\n",
       "  <tbody>\n",
       "    <tr>\n",
       "      <th>0</th>\n",
       "      <td>Active Learning from Imperfect Labelers</td>\n",
       "      <td>Accept</td>\n",
       "      <td>We study active learning where the labeler can...</td>\n",
       "      <td>In active learning, the learner is given an in...</td>\n",
       "      <td>NIPS</td>\n",
       "      <td>This article presents a method for adaptive le...</td>\n",
       "      <td>1</td>\n",
       "      <td>813</td>\n",
       "      <td>99</td>\n",
       "      <td>189</td>\n",
       "      <td>...</td>\n",
       "      <td>yansongbai@eng.ucsd.edu, kamalika@cs.ucsd.edu,...</td>\n",
       "      <td>META</td>\n",
       "      <td>Songbai Yan, Kamalika Chaudhuri, Tara Javidi</td>\n",
       "      <td>3.0</td>\n",
       "      <td>NaN</td>\n",
       "      <td>1.0</td>\n",
       "      <td>Thisarticlepresentsamethodforadaptivelearningi...</td>\n",
       "      <td>48.0</td>\n",
       "      <td>3.871201</td>\n",
       "      <td>0</td>\n",
       "    </tr>\n",
       "    <tr>\n",
       "      <th>1</th>\n",
       "      <td>Active Learning from Imperfect Labelers</td>\n",
       "      <td>Accept</td>\n",
       "      <td>We study active learning where the labeler can...</td>\n",
       "      <td>In active learning, the learner is given an in...</td>\n",
       "      <td>NIPS</td>\n",
       "      <td>This paper studies the problem of active learn...</td>\n",
       "      <td>1</td>\n",
       "      <td>813</td>\n",
       "      <td>99</td>\n",
       "      <td>199</td>\n",
       "      <td>...</td>\n",
       "      <td>yansongbai@eng.ucsd.edu, kamalika@cs.ucsd.edu,...</td>\n",
       "      <td>META</td>\n",
       "      <td>Songbai Yan, Kamalika Chaudhuri, Tara Javidi</td>\n",
       "      <td>3.0</td>\n",
       "      <td>NaN</td>\n",
       "      <td>1.0</td>\n",
       "      <td>Thispaperstudiestheproblemofactivelearningunde...</td>\n",
       "      <td>48.0</td>\n",
       "      <td>3.871201</td>\n",
       "      <td>1</td>\n",
       "    </tr>\n",
       "    <tr>\n",
       "      <th>2</th>\n",
       "      <td>Active Learning from Imperfect Labelers</td>\n",
       "      <td>Accept</td>\n",
       "      <td>We study active learning where the labeler can...</td>\n",
       "      <td>In active learning, the learner is given an in...</td>\n",
       "      <td>NIPS</td>\n",
       "      <td>The paper studies active learning where the la...</td>\n",
       "      <td>1</td>\n",
       "      <td>813</td>\n",
       "      <td>99</td>\n",
       "      <td>424</td>\n",
       "      <td>...</td>\n",
       "      <td>yansongbai@eng.ucsd.edu, kamalika@cs.ucsd.edu,...</td>\n",
       "      <td>META</td>\n",
       "      <td>Songbai Yan, Kamalika Chaudhuri, Tara Javidi</td>\n",
       "      <td>3.0</td>\n",
       "      <td>NaN</td>\n",
       "      <td>1.0</td>\n",
       "      <td>Thepaperstudiesactivelearningwherethelabelersm...</td>\n",
       "      <td>48.0</td>\n",
       "      <td>3.871201</td>\n",
       "      <td>2</td>\n",
       "    </tr>\n",
       "    <tr>\n",
       "      <th>3</th>\n",
       "      <td>Active Learning from Imperfect Labelers</td>\n",
       "      <td>Accept</td>\n",
       "      <td>We study active learning where the labeler can...</td>\n",
       "      <td>In active learning, the learner is given an in...</td>\n",
       "      <td>NIPS</td>\n",
       "      <td>This paper focuses on active learning when the...</td>\n",
       "      <td>1</td>\n",
       "      <td>813</td>\n",
       "      <td>99</td>\n",
       "      <td>247</td>\n",
       "      <td>...</td>\n",
       "      <td>yansongbai@eng.ucsd.edu, kamalika@cs.ucsd.edu,...</td>\n",
       "      <td>META</td>\n",
       "      <td>Songbai Yan, Kamalika Chaudhuri, Tara Javidi</td>\n",
       "      <td>3.0</td>\n",
       "      <td>NaN</td>\n",
       "      <td>1.0</td>\n",
       "      <td>Thispaperfocusesonactivelearningwhenthelabeler...</td>\n",
       "      <td>48.0</td>\n",
       "      <td>3.871201</td>\n",
       "      <td>3</td>\n",
       "    </tr>\n",
       "    <tr>\n",
       "      <th>4</th>\n",
       "      <td>Active Learning from Imperfect Labelers</td>\n",
       "      <td>Accept</td>\n",
       "      <td>We study active learning where the labeler can...</td>\n",
       "      <td>In active learning, the learner is given an in...</td>\n",
       "      <td>NIPS</td>\n",
       "      <td>This paper provides some theoretical analysis ...</td>\n",
       "      <td>1</td>\n",
       "      <td>813</td>\n",
       "      <td>99</td>\n",
       "      <td>153</td>\n",
       "      <td>...</td>\n",
       "      <td>yansongbai@eng.ucsd.edu, kamalika@cs.ucsd.edu,...</td>\n",
       "      <td>META</td>\n",
       "      <td>Songbai Yan, Kamalika Chaudhuri, Tara Javidi</td>\n",
       "      <td>1.5</td>\n",
       "      <td>NaN</td>\n",
       "      <td>1.0</td>\n",
       "      <td>Thispaperprovidessometheoreticalanalysistoacti...</td>\n",
       "      <td>48.0</td>\n",
       "      <td>3.871201</td>\n",
       "      <td>4</td>\n",
       "    </tr>\n",
       "  </tbody>\n",
       "</table>\n",
       "<p>5 rows × 33 columns</p>\n",
       "</div>"
      ],
      "text/plain": [
       "                                     title decision  \\\n",
       "0  Active Learning from Imperfect Labelers   Accept   \n",
       "1  Active Learning from Imperfect Labelers   Accept   \n",
       "2  Active Learning from Imperfect Labelers   Accept   \n",
       "3  Active Learning from Imperfect Labelers   Accept   \n",
       "4  Active Learning from Imperfect Labelers   Accept   \n",
       "\n",
       "                                            abstract  \\\n",
       "0  We study active learning where the labeler can...   \n",
       "1  We study active learning where the labeler can...   \n",
       "2  We study active learning where the labeler can...   \n",
       "3  We study active learning where the labeler can...   \n",
       "4  We study active learning where the labeler can...   \n",
       "\n",
       "                                               intro conference  \\\n",
       "0  In active learning, the learner is given an in...       NIPS   \n",
       "1  In active learning, the learner is given an in...       NIPS   \n",
       "2  In active learning, the learner is given an in...       NIPS   \n",
       "3  In active learning, the learner is given an in...       NIPS   \n",
       "4  In active learning, the learner is given an in...       NIPS   \n",
       "\n",
       "                                              review  decision_label  \\\n",
       "0  This article presents a method for adaptive le...               1   \n",
       "1  This paper studies the problem of active learn...               1   \n",
       "2  The paper studies active learning where the la...               1   \n",
       "3  This paper focuses on active learning when the...               1   \n",
       "4  This paper provides some theoretical analysis ...               1   \n",
       "\n",
       "   intro_len  abstract_len  review_len  ...  \\\n",
       "0        813            99         189  ...   \n",
       "1        813            99         199  ...   \n",
       "2        813            99         424  ...   \n",
       "3        813            99         247  ...   \n",
       "4        813            99         153  ...   \n",
       "\n",
       "                                              emails  source  \\\n",
       "0  yansongbai@eng.ucsd.edu, kamalika@cs.ucsd.edu,...    META   \n",
       "1  yansongbai@eng.ucsd.edu, kamalika@cs.ucsd.edu,...    META   \n",
       "2  yansongbai@eng.ucsd.edu, kamalika@cs.ucsd.edu,...    META   \n",
       "3  yansongbai@eng.ucsd.edu, kamalika@cs.ucsd.edu,...    META   \n",
       "4  yansongbai@eng.ucsd.edu, kamalika@cs.ucsd.edu,...    META   \n",
       "\n",
       "                                        authors  confidence rating  \\\n",
       "0  Songbai Yan, Kamalika Chaudhuri, Tara Javidi         3.0    NaN   \n",
       "1  Songbai Yan, Kamalika Chaudhuri, Tara Javidi         3.0    NaN   \n",
       "2  Songbai Yan, Kamalika Chaudhuri, Tara Javidi         3.0    NaN   \n",
       "3  Songbai Yan, Kamalika Chaudhuri, Tara Javidi         3.0    NaN   \n",
       "4  Songbai Yan, Kamalika Chaudhuri, Tara Javidi         1.5    NaN   \n",
       "\n",
       "   decision_binary                               review_no_whitespace CitNum  \\\n",
       "0              1.0  Thisarticlepresentsamethodforadaptivelearningi...   48.0   \n",
       "1              1.0  Thispaperstudiestheproblemofactivelearningunde...   48.0   \n",
       "2              1.0  Thepaperstudiesactivelearningwherethelabelersm...   48.0   \n",
       "3              1.0  Thispaperfocusesonactivelearningwhenthelabeler...   48.0   \n",
       "4              1.0  Thispaperprovidessometheoreticalanalysistoacti...   48.0   \n",
       "\n",
       "  logCitNum  id  \n",
       "0  3.871201   0  \n",
       "1  3.871201   1  \n",
       "2  3.871201   2  \n",
       "3  3.871201   3  \n",
       "4  3.871201   4  \n",
       "\n",
       "[5 rows x 33 columns]"
      ]
     },
     "execution_count": 81,
     "metadata": {},
     "output_type": "execute_result"
    }
   ],
   "source": [
    "print(all_df.shape)\n",
    "all_df.head()"
   ]
  },
  {
   "cell_type": "markdown",
   "id": "45076c2d",
   "metadata": {},
   "source": [
    "# Output All Reviews"
   ]
  },
  {
   "cell_type": "code",
   "execution_count": 4,
   "id": "4a4c9329",
   "metadata": {
    "ExecuteTime": {
     "end_time": "2023-04-24T21:31:17.278406Z",
     "start_time": "2023-04-24T21:31:12.935529Z"
    }
   },
   "outputs": [],
   "source": [
    "all_citations_df = pd.read_csv('./all_processed_data_with_citations.csv')"
   ]
  },
  {
   "cell_type": "code",
   "execution_count": 8,
   "id": "94ddb7a5",
   "metadata": {
    "ExecuteTime": {
     "end_time": "2023-04-24T21:32:10.398839Z",
     "start_time": "2023-04-24T21:32:10.391852Z"
    }
   },
   "outputs": [],
   "source": [
    "all_citations_df = all_citations_df.reset_index(drop=True)"
   ]
  },
  {
   "cell_type": "code",
   "execution_count": 10,
   "id": "352d085a",
   "metadata": {
    "ExecuteTime": {
     "end_time": "2023-04-24T21:39:19.701446Z",
     "start_time": "2023-04-24T21:39:19.699225Z"
    }
   },
   "outputs": [],
   "source": [
    "block_size = 5000"
   ]
  },
  {
   "cell_type": "code",
   "execution_count": 12,
   "id": "6bdd53c7",
   "metadata": {
    "ExecuteTime": {
     "end_time": "2023-04-24T21:39:29.656756Z",
     "start_time": "2023-04-24T21:39:27.747329Z"
    }
   },
   "outputs": [],
   "source": [
    "for i in range(len(all_citations_df) // block_size+1):\n",
    "    output_file_path = f'./block_{i}_reviews.txt'\n",
    "    st_idx, end_idx = i*block_size, min((i+1)*block_size, len(all_citations_df))\n",
    "    with open(output_file_path, 'w') as outfile:\n",
    "        for i, row in all_citations_df.iloc[st_idx:end_idx].iterrows():\n",
    "            try:\n",
    "                review = row['review']\n",
    "                outfile.write(review.replace('\\n', '') + '\\n')\n",
    "            except Exception as e:\n",
    "                print(i)\n",
    "                print(row['review'])"
   ]
  },
  {
   "cell_type": "code",
   "execution_count": 13,
   "id": "35aa794d",
   "metadata": {
    "ExecuteTime": {
     "end_time": "2023-04-24T21:40:04.859281Z",
     "start_time": "2023-04-24T21:40:03.023977Z"
    }
   },
   "outputs": [],
   "source": [
    "output_file_path = f'./all_22k_reviews.txt'\n",
    "with open(output_file_path, 'w') as outfile:\n",
    "    for i, row in all_citations_df.iterrows():\n",
    "        try:\n",
    "            review = row['review']\n",
    "            outfile.write(review.replace('\\n', '') + '\\n')\n",
    "        except Exception as e:\n",
    "            print(i)\n",
    "            print(row['review'])"
   ]
  }
 ],
 "metadata": {
  "kernelspec": {
   "display_name": "Python 3",
   "language": "python",
   "name": "python3"
  },
  "language_info": {
   "codemirror_mode": {
    "name": "ipython",
    "version": 3
   },
   "file_extension": ".py",
   "mimetype": "text/x-python",
   "name": "python",
   "nbconvert_exporter": "python",
   "pygments_lexer": "ipython3",
   "version": "3.9.4"
  },
  "toc": {
   "base_numbering": 1,
   "nav_menu": {},
   "number_sections": true,
   "sideBar": true,
   "skip_h1_title": false,
   "title_cell": "Table of Contents",
   "title_sidebar": "Contents",
   "toc_cell": false,
   "toc_position": {},
   "toc_section_display": true,
   "toc_window_display": true
  }
 },
 "nbformat": 4,
 "nbformat_minor": 5
}
