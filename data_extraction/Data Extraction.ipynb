{
 "cells": [
  {
   "cell_type": "code",
   "execution_count": 3,
   "id": "5365e8af",
   "metadata": {
    "ExecuteTime": {
     "end_time": "2023-03-08T20:50:23.389424Z",
     "start_time": "2023-03-08T20:50:23.386676Z"
    }
   },
   "outputs": [],
   "source": [
    "import sys\n",
    "sys.path.insert(1, '../')\n",
    "\n",
    "import utils"
   ]
  },
  {
   "cell_type": "code",
   "execution_count": 4,
   "id": "0fa869d5",
   "metadata": {
    "ExecuteTime": {
     "end_time": "2023-03-08T20:50:23.783888Z",
     "start_time": "2023-03-08T20:50:23.762304Z"
    }
   },
   "outputs": [
    {
     "ename": "NameError",
     "evalue": "name 'Extractor' is not defined",
     "output_type": "error",
     "traceback": [
      "\u001b[0;31m---------------------------------------------------------------------------\u001b[0m",
      "\u001b[0;31mNameError\u001b[0m                                 Traceback (most recent call last)",
      "\u001b[0;32m<ipython-input-4-76dd29f931af>\u001b[0m in \u001b[0;36m<module>\u001b[0;34m\u001b[0m\n\u001b[0;32m----> 1\u001b[0;31m \u001b[0mextractor\u001b[0m \u001b[0;34m=\u001b[0m \u001b[0mExtractor\u001b[0m\u001b[0;34m(\u001b[0m\u001b[0;34m'keywords.txt'\u001b[0m\u001b[0;34m,\u001b[0m \u001b[0;34m'parameters.txt'\u001b[0m\u001b[0;34m)\u001b[0m\u001b[0;34m\u001b[0m\u001b[0;34m\u001b[0m\u001b[0m\n\u001b[0m",
      "\u001b[0;31mNameError\u001b[0m: name 'Extractor' is not defined"
     ]
    }
   ],
   "source": [
    "extractor = Extractor('keywords.txt', 'parameters.txt')"
   ]
  },
  {
   "cell_type": "code",
   "execution_count": 6,
   "id": "ac25ca0a",
   "metadata": {},
   "outputs": [],
   "source": [
    "json_list = []\n",
    "\n",
    "for i in range(1, 5):\n",
    "    paper_dict = {}\n",
    "    \n",
    "    # Check whether content and review info exist, if not, exclude paper\n",
    "    kind = 'paper'\n",
    "    fname = '../../dataset/NIPS_2017/NIPS_2017_'+kind+'/NIPS_2017_'+str(i)+'_'+kind+'.json'\n",
    "    with open(fname, 'r', encoding='utf8') as f:\n",
    "        content_dict = json.loads(f.read())\n",
    "    if content_dict['hasContent'] != 'true' or content_dict['hasReview'] != 'true':\n",
    "        continue\n",
    "    \n",
    "    # Get basic paper information\n",
    "    paper_dict['title'] = content_dict['title']\n",
    "    paper_dict['decision'] = content_dict['decision']\n",
    "    paper_dict['conference'] = content_dict['conference']\n",
    "    \n",
    "    # Get longform paper text and use the extractor to condense\n",
    "    kind = 'content'\n",
    "    fname = '../../dataset/NIPS_2017/NIPS_2017_'+kind+'/NIPS_2017_'+str(i)+'_'+kind+'.json'\n",
    "    fulltext = get_full_text(fname)\n",
    "    extraction = extractor.extract(fulltext)\n",
    "    paper_dict['text'] = extraction\n",
    "    \n",
    "    # Get reviews\n",
    "    kind = 'review'\n",
    "    fname = '../../dataset/NIPS_2017/NIPS_2017_'+kind+'/NIPS_2017_'+str(i)+'_'+kind+'.json'\n",
    "    with open(fname, 'r', encoding='utf8') as f:\n",
    "        content_dict = json.loads(f.read())\n",
    "    reviews = []\n",
    "    for r in content_dict['reviews']:\n",
    "        reviews.append(r['review'])\n",
    "    paper_dict['reviews'] = reviews\n",
    "    \n",
    "    # Add to list to be converted to JSON\n",
    "    json_list.append(paper_dict)"
   ]
  },
  {
   "cell_type": "code",
   "execution_count": 7,
   "id": "68b778c0",
   "metadata": {},
   "outputs": [],
   "source": [
    "# JSON format\n",
    "# { \n",
    "#   \"title\": str\n",
    "#   \"decision\": str\n",
    "#   \"conference\": str\n",
    "#   \"text\": str\n",
    "#   \"reviews\": list of strs\n",
    "# }\n",
    "\n",
    "# Writing to JSON file\n",
    "json_object = json.dumps(json_list, indent=4)\n",
    "with open(\"paper_data.json\", \"w\") as outfile:\n",
    "    outfile.write(json_object)"
   ]
  },
  {
   "cell_type": "code",
   "execution_count": null,
   "id": "9f67a6dd",
   "metadata": {},
   "outputs": [],
   "source": []
  }
 ],
 "metadata": {
  "kernelspec": {
   "display_name": "Python 3",
   "language": "python",
   "name": "python3"
  },
  "language_info": {
   "codemirror_mode": {
    "name": "ipython",
    "version": 3
   },
   "file_extension": ".py",
   "mimetype": "text/x-python",
   "name": "python",
   "nbconvert_exporter": "python",
   "pygments_lexer": "ipython3",
   "version": "3.9.4"
  },
  "toc": {
   "base_numbering": 1,
   "nav_menu": {},
   "number_sections": true,
   "sideBar": true,
   "skip_h1_title": false,
   "title_cell": "Table of Contents",
   "title_sidebar": "Contents",
   "toc_cell": false,
   "toc_position": {},
   "toc_section_display": true,
   "toc_window_display": false
  }
 },
 "nbformat": 4,
 "nbformat_minor": 5
}
