{
 "cells": [
  {
   "cell_type": "code",
   "execution_count": 9,
   "id": "5365e8af",
   "metadata": {},
   "outputs": [],
   "source": [
    "import sys\n",
    "sys.path.insert(1, '../')\n",
    "\n",
    "import utils"
   ]
  },
  {
   "cell_type": "code",
   "execution_count": 4,
   "id": "0fa869d5",
   "metadata": {},
   "outputs": [],
   "source": [
    "extractor = Extractor('keywords.txt', 'parameters.txt')"
   ]
  },
  {
   "cell_type": "code",
   "execution_count": 6,
   "id": "ac25ca0a",
   "metadata": {},
   "outputs": [],
   "source": [
    "json_list = []\n",
    "\n",
    "for i in range(1, 5):\n",
    "    paper_dict = {}\n",
    "    \n",
    "    # Check whether content and review info exist, if not, exclude paper\n",
    "    kind = 'paper'\n",
    "    fname = '../../dataset/NIPS_2017/NIPS_2017_'+kind+'/NIPS_2017_'+str(i)+'_'+kind+'.json'\n",
    "    with open(fname, 'r', encoding='utf8') as f:\n",
    "        content_dict = json.loads(f.read())\n",
    "    if content_dict['hasContent'] != 'true' or content_dict['hasReview'] != 'true':\n",
    "        continue\n",
    "    \n",
    "    # Get basic paper information\n",
    "    paper_dict['title'] = content_dict['title']\n",
    "    paper_dict['decision'] = content_dict['decision']\n",
    "    paper_dict['conference'] = content_dict['conference']\n",
    "    \n",
    "    # Get longform paper text and use the extractor to condense\n",
    "    kind = 'content'\n",
    "    fname = '../../dataset/NIPS_2017/NIPS_2017_'+kind+'/NIPS_2017_'+str(i)+'_'+kind+'.json'\n",
    "    fulltext = get_full_text(fname)\n",
    "    extraction = extractor.extract(fulltext)\n",
    "    paper_dict['text'] = extraction\n",
    "    \n",
    "    # Get reviews\n",
    "    kind = 'review'\n",
    "    fname = '../../dataset/NIPS_2017/NIPS_2017_'+kind+'/NIPS_2017_'+str(i)+'_'+kind+'.json'\n",
    "    with open(fname, 'r', encoding='utf8') as f:\n",
    "        content_dict = json.loads(f.read())\n",
    "    reviews = []\n",
    "    for r in content_dict['reviews']:\n",
    "        reviews.append(r['review'])\n",
    "    paper_dict['reviews'] = reviews\n",
    "    \n",
    "    # Add to list to be converted to JSON\n",
    "    json_list.append(paper_dict)"
   ]
  },
  {
   "cell_type": "code",
   "execution_count": 7,
   "id": "68b778c0",
   "metadata": {},
   "outputs": [],
   "source": [
    "# JSON format\n",
    "# { \n",
    "#   \"title\": str\n",
    "#   \"decision\": str\n",
    "#   \"conference\": str\n",
    "#   \"text\": str\n",
    "#   \"reviews\": list of strs\n",
    "# }\n",
    "\n",
    "# Writing to JSON file\n",
    "json_object = json.dumps(json_list, indent=4)\n",
    "with open(\"paper_data.json\", \"w\") as outfile:\n",
    "    outfile.write(json_object)"
   ]
  },
  {
   "cell_type": "code",
   "execution_count": null,
   "id": "9f67a6dd",
   "metadata": {},
   "outputs": [],
   "source": []
  }
 ],
 "metadata": {
  "kernelspec": {
   "display_name": "research23",
   "language": "python",
   "name": "research23"
  },
  "language_info": {
   "codemirror_mode": {
    "name": "ipython",
    "version": 3
   },
   "file_extension": ".py",
   "mimetype": "text/x-python",
   "name": "python",
   "nbconvert_exporter": "python",
   "pygments_lexer": "ipython3",
   "version": "3.9.12"
  }
 },
 "nbformat": 4,
 "nbformat_minor": 5
}
