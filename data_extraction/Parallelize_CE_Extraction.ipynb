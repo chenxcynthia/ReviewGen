{
 "cells": [
  {
   "cell_type": "code",
   "execution_count": 155,
   "id": "5365e8af",
   "metadata": {
    "ExecuteTime": {
     "end_time": "2023-03-10T06:19:01.060505Z",
     "start_time": "2023-03-10T06:19:01.058217Z"
    }
   },
   "outputs": [],
   "source": [
    "import sys\n",
    "import pandas as pd\n",
    "import json\n",
    "sys.path.insert(1, '../')\n",
    "\n",
    "from utils import *"
   ]
  },
  {
   "cell_type": "code",
   "execution_count": 156,
   "id": "71bb6502",
   "metadata": {
    "ExecuteTime": {
     "end_time": "2023-03-10T06:19:01.247510Z",
     "start_time": "2023-03-10T06:19:01.245280Z"
    }
   },
   "outputs": [],
   "source": [
    "import time"
   ]
  },
  {
   "cell_type": "code",
   "execution_count": 157,
   "id": "a650b4d4",
   "metadata": {
    "ExecuteTime": {
     "end_time": "2023-03-10T06:19:01.417011Z",
     "start_time": "2023-03-10T06:19:01.414858Z"
    }
   },
   "outputs": [],
   "source": [
    "import importlib\n",
    "import parallelize"
   ]
  },
  {
   "cell_type": "code",
   "execution_count": 158,
   "id": "e4187360",
   "metadata": {
    "ExecuteTime": {
     "end_time": "2023-03-10T06:19:01.581158Z",
     "start_time": "2023-03-10T06:19:01.578781Z"
    }
   },
   "outputs": [],
   "source": [
    "workdir = './'"
   ]
  },
  {
   "cell_type": "code",
   "execution_count": 182,
   "id": "b3ba31dd",
   "metadata": {
    "ExecuteTime": {
     "end_time": "2023-03-10T06:42:43.662559Z",
     "start_time": "2023-03-10T06:42:43.651364Z"
    }
   },
   "outputs": [
    {
     "data": {
      "text/plain": [
       "<module 'parallelize' from '../parallelize.py'>"
      ]
     },
     "execution_count": 182,
     "metadata": {},
     "output_type": "execute_result"
    }
   ],
   "source": [
    "importlib.reload(parallelize)"
   ]
  },
  {
   "cell_type": "code",
   "execution_count": 183,
   "id": "8afaa860",
   "metadata": {
    "ExecuteTime": {
     "end_time": "2023-03-10T06:42:44.122140Z",
     "start_time": "2023-03-10T06:42:44.118878Z"
    }
   },
   "outputs": [],
   "source": [
    "conferences = ['NIPS_' + str(y) for y in range(2016, 2020)] + ['ICLR_' + str(y) for y in range(2017, 2021)] \n",
    "max_reviews = [568, 679, 1009, 1428] + [490, 910, 1579, 2213]"
   ]
  },
  {
   "cell_type": "code",
   "execution_count": null,
   "id": "df0f2f8f",
   "metadata": {},
   "outputs": [],
   "source": [
    "# For reference - running data extraction\n",
    "for i, conf in enumerate(conferences):\n",
    "    parallelize.run_extraction(0, max_reviews[i], conf)"
   ]
  },
  {
   "cell_type": "code",
   "execution_count": 162,
   "id": "c0846eaf",
   "metadata": {
    "ExecuteTime": {
     "end_time": "2023-03-10T06:20:49.182478Z",
     "start_time": "2023-03-10T06:20:49.178703Z"
    }
   },
   "outputs": [],
   "source": [
    "# For reference - loading data extraction output\n",
    "def load_ce_reviews_json(st, end, conf):\n",
    "    dfs = []\n",
    "    for i in range(st, end):\n",
    "        dfs.append(pd.read_json(workdir + f'outputdata/{conf}_ce_extract_{i}.json'))\n",
    "    \n",
    "    return pd.concat(dfs)"
   ]
  },
  {
   "cell_type": "code",
   "execution_count": null,
   "id": "9bc3db97",
   "metadata": {},
   "outputs": [],
   "source": [
    "ce_dfs = []\n",
    "\n",
    "for i, conf in enumerate(conferences):\n",
    "    ce_dfs.append(load_ce_reviews_json(max_reviews[i], conf))"
   ]
  },
  {
   "cell_type": "code",
   "execution_count": null,
   "id": "0c43c72c",
   "metadata": {},
   "outputs": [],
   "source": [
    "all_ce_df = pd.concat(ce_dfs)"
   ]
  }
 ],
 "metadata": {
  "kernelspec": {
   "display_name": "Python 3",
   "language": "python",
   "name": "python3"
  },
  "language_info": {
   "codemirror_mode": {
    "name": "ipython",
    "version": 3
   },
   "file_extension": ".py",
   "mimetype": "text/x-python",
   "name": "python",
   "nbconvert_exporter": "python",
   "pygments_lexer": "ipython3",
   "version": "3.9.4"
  },
  "toc": {
   "base_numbering": 1,
   "nav_menu": {},
   "number_sections": true,
   "sideBar": true,
   "skip_h1_title": false,
   "title_cell": "Table of Contents",
   "title_sidebar": "Contents",
   "toc_cell": false,
   "toc_position": {},
   "toc_section_display": true,
   "toc_window_display": false
  }
 },
 "nbformat": 4,
 "nbformat_minor": 5
}
