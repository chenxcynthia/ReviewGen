{
 "cells": [
  {
   "cell_type": "code",
   "execution_count": 155,
   "id": "5365e8af",
   "metadata": {
    "ExecuteTime": {
     "end_time": "2023-03-10T06:19:01.060505Z",
     "start_time": "2023-03-10T06:19:01.058217Z"
    }
   },
   "outputs": [],
   "source": [
    "import sys\n",
    "import pandas as pd\n",
    "import json\n",
    "sys.path.insert(1, '../')\n",
    "\n",
    "from utils import *"
   ]
  },
  {
   "cell_type": "code",
   "execution_count": 156,
   "id": "71bb6502",
   "metadata": {
    "ExecuteTime": {
     "end_time": "2023-03-10T06:19:01.247510Z",
     "start_time": "2023-03-10T06:19:01.245280Z"
    }
   },
   "outputs": [],
   "source": [
    "import time"
   ]
  },
  {
   "cell_type": "code",
   "execution_count": 157,
   "id": "a650b4d4",
   "metadata": {
    "ExecuteTime": {
     "end_time": "2023-03-10T06:19:01.417011Z",
     "start_time": "2023-03-10T06:19:01.414858Z"
    }
   },
   "outputs": [],
   "source": [
    "import importlib\n",
    "import parallelize"
   ]
  },
  {
   "cell_type": "code",
   "execution_count": 158,
   "id": "13b988a7",
   "metadata": {
    "ExecuteTime": {
     "end_time": "2023-03-10T06:19:01.581158Z",
     "start_time": "2023-03-10T06:19:01.578781Z"
    }
   },
   "outputs": [],
   "source": [
    "workdir = '../'"
   ]
  },
  {
   "cell_type": "code",
   "execution_count": 159,
   "id": "b3ba31dd",
   "metadata": {
    "ExecuteTime": {
     "end_time": "2023-03-10T06:19:01.749928Z",
     "start_time": "2023-03-10T06:19:01.744196Z"
    }
   },
   "outputs": [
    {
     "data": {
      "text/plain": [
       "<module 'parallelize' from '../parallelize.py'>"
      ]
     },
     "execution_count": 159,
     "metadata": {},
     "output_type": "execute_result"
    }
   ],
   "source": [
    "importlib.reload(parallelize)"
   ]
  },
  {
   "cell_type": "code",
   "execution_count": 160,
   "id": "8afaa860",
   "metadata": {
    "ExecuteTime": {
     "end_time": "2023-03-10T06:19:02.132718Z",
     "start_time": "2023-03-10T06:19:02.129569Z"
    }
   },
   "outputs": [],
   "source": [
    "conferences = ['NIPS_' + str(y) for y in range(2016, 2020)] + ['ICLR_' + str(y) for y in range(2017, 2021)] \n",
    "max_reviews = [568, 679, 1009, 1428] + [490, 910, 1579, 2213]"
   ]
  },
  {
   "cell_type": "code",
   "execution_count": 161,
   "id": "d340bd60",
   "metadata": {
    "ExecuteTime": {
     "end_time": "2023-03-10T06:20:46.632647Z",
     "start_time": "2023-03-10T06:19:02.320243Z"
    }
   },
   "outputs": [
    {
     "name": "stdout",
     "output_type": "stream",
     "text": [
      "NIPS_2016\n",
      "1\n",
      "(0, 'finished in 56.734386920928955 seconds')\n",
      "(0, 'finished in 51.60847520828247 seconds')\n",
      "(0, 'finished in 56.365687131881714 seconds')\n",
      "(0, 'finished in 56.58695077896118 seconds')\n",
      "(0, 'finished in 66.79516124725342 seconds')\n",
      "(0, 'finished in 59.81186008453369 seconds')\n",
      "(0, 'finished in 59.37888216972351 seconds')\n",
      "(0, 'finished in 56.59315085411072 seconds')\n",
      "(0, 'finished in 57.71467113494873 seconds')\n",
      "(0, 'finished in 59.84894800186157 seconds')\n",
      "(0, 'finished in 61.92906594276428 seconds')\n",
      "(0, 'finished in 51.288026094436646 seconds')\n",
      "(0, 'finished in 57.758800983428955 seconds')\n",
      "(0, 'finished in 62.54497480392456 seconds')\n",
      "15\n"
     ]
    },
    {
     "ename": "KeyboardInterrupt",
     "evalue": "",
     "output_type": "error",
     "traceback": [
      "\u001b[0;31m---------------------------------------------------------------------------\u001b[0m",
      "\u001b[0;31mKeyboardInterrupt\u001b[0m                         Traceback (most recent call last)",
      "\u001b[0;32m<ipython-input-161-f226e599009f>\u001b[0m in \u001b[0;36m<module>\u001b[0;34m\u001b[0m\n\u001b[1;32m      1\u001b[0m \u001b[0;32mfor\u001b[0m \u001b[0mi\u001b[0m\u001b[0;34m,\u001b[0m \u001b[0mconf\u001b[0m \u001b[0;32min\u001b[0m \u001b[0menumerate\u001b[0m\u001b[0;34m(\u001b[0m\u001b[0mconferences\u001b[0m\u001b[0;34m)\u001b[0m\u001b[0;34m:\u001b[0m\u001b[0;34m\u001b[0m\u001b[0;34m\u001b[0m\u001b[0m\n\u001b[1;32m      2\u001b[0m     \u001b[0mprint\u001b[0m\u001b[0;34m(\u001b[0m\u001b[0mconf\u001b[0m\u001b[0;34m)\u001b[0m\u001b[0;34m\u001b[0m\u001b[0;34m\u001b[0m\u001b[0m\n\u001b[0;32m----> 3\u001b[0;31m     \u001b[0mparallelize\u001b[0m\u001b[0;34m.\u001b[0m\u001b[0mrun_extraction\u001b[0m\u001b[0;34m(\u001b[0m\u001b[0;36m1\u001b[0m\u001b[0;34m,\u001b[0m \u001b[0mmax_reviews\u001b[0m\u001b[0;34m[\u001b[0m\u001b[0mi\u001b[0m\u001b[0;34m]\u001b[0m\u001b[0;34m,\u001b[0m \u001b[0mconf\u001b[0m\u001b[0;34m)\u001b[0m\u001b[0;34m\u001b[0m\u001b[0;34m\u001b[0m\u001b[0m\n\u001b[0m",
      "\u001b[0;32m~/Dropbox/Mac/Desktop/Classes/CS282/cs282-project/parallelize.py\u001b[0m in \u001b[0;36mrun_extraction\u001b[0;34m(st, end, sub_dir)\u001b[0m\n\u001b[1;32m     83\u001b[0m \u001b[0;34m\u001b[0m\u001b[0m\n\u001b[1;32m     84\u001b[0m         \u001b[0;32mwith\u001b[0m \u001b[0mconcurrent\u001b[0m\u001b[0;34m.\u001b[0m\u001b[0mfutures\u001b[0m\u001b[0;34m.\u001b[0m\u001b[0mProcessPoolExecutor\u001b[0m\u001b[0;34m(\u001b[0m\u001b[0;34m)\u001b[0m \u001b[0;32mas\u001b[0m \u001b[0mexecutor\u001b[0m\u001b[0;34m:\u001b[0m\u001b[0;34m\u001b[0m\u001b[0;34m\u001b[0m\u001b[0m\n\u001b[0;32m---> 85\u001b[0;31m             \u001b[0mresults\u001b[0m \u001b[0;34m=\u001b[0m \u001b[0mexecutor\u001b[0m\u001b[0;34m.\u001b[0m\u001b[0mmap\u001b[0m\u001b[0;34m(\u001b[0m\u001b[0mextract_file\u001b[0m\u001b[0;34m,\u001b[0m \u001b[0mlist\u001b[0m\u001b[0;34m(\u001b[0m\u001b[0mrange\u001b[0m\u001b[0;34m(\u001b[0m\u001b[0mcur_st\u001b[0m\u001b[0;34m,\u001b[0m \u001b[0mcur_st\u001b[0m\u001b[0;34m+\u001b[0m\u001b[0minc\u001b[0m\u001b[0;34m)\u001b[0m\u001b[0;34m)\u001b[0m\u001b[0;34m,\u001b[0m \u001b[0;34m[\u001b[0m\u001b[0msub_dir\u001b[0m \u001b[0;32mfor\u001b[0m \u001b[0m_\u001b[0m \u001b[0;32min\u001b[0m \u001b[0mrange\u001b[0m\u001b[0;34m(\u001b[0m\u001b[0minc\u001b[0m\u001b[0;34m)\u001b[0m\u001b[0;34m]\u001b[0m\u001b[0;34m)\u001b[0m\u001b[0;34m\u001b[0m\u001b[0;34m\u001b[0m\u001b[0m\n\u001b[0m\u001b[1;32m     86\u001b[0m \u001b[0;34m\u001b[0m\u001b[0m\n\u001b[1;32m     87\u001b[0m         \u001b[0mcur_st\u001b[0m \u001b[0;34m+=\u001b[0m \u001b[0minc\u001b[0m\u001b[0;34m\u001b[0m\u001b[0;34m\u001b[0m\u001b[0m\n",
      "\u001b[0;32m~/.conda/envs/data-sci/lib/python3.9/concurrent/futures/_base.py\u001b[0m in \u001b[0;36m__exit__\u001b[0;34m(self, exc_type, exc_val, exc_tb)\u001b[0m\n\u001b[1;32m    634\u001b[0m \u001b[0;34m\u001b[0m\u001b[0m\n\u001b[1;32m    635\u001b[0m     \u001b[0;32mdef\u001b[0m \u001b[0m__exit__\u001b[0m\u001b[0;34m(\u001b[0m\u001b[0mself\u001b[0m\u001b[0;34m,\u001b[0m \u001b[0mexc_type\u001b[0m\u001b[0;34m,\u001b[0m \u001b[0mexc_val\u001b[0m\u001b[0;34m,\u001b[0m \u001b[0mexc_tb\u001b[0m\u001b[0;34m)\u001b[0m\u001b[0;34m:\u001b[0m\u001b[0;34m\u001b[0m\u001b[0;34m\u001b[0m\u001b[0m\n\u001b[0;32m--> 636\u001b[0;31m         \u001b[0mself\u001b[0m\u001b[0;34m.\u001b[0m\u001b[0mshutdown\u001b[0m\u001b[0;34m(\u001b[0m\u001b[0mwait\u001b[0m\u001b[0;34m=\u001b[0m\u001b[0;32mTrue\u001b[0m\u001b[0;34m)\u001b[0m\u001b[0;34m\u001b[0m\u001b[0;34m\u001b[0m\u001b[0m\n\u001b[0m\u001b[1;32m    637\u001b[0m         \u001b[0;32mreturn\u001b[0m \u001b[0;32mFalse\u001b[0m\u001b[0;34m\u001b[0m\u001b[0;34m\u001b[0m\u001b[0m\n\u001b[1;32m    638\u001b[0m \u001b[0;34m\u001b[0m\u001b[0m\n",
      "\u001b[0;32m~/.conda/envs/data-sci/lib/python3.9/concurrent/futures/process.py\u001b[0m in \u001b[0;36mshutdown\u001b[0;34m(self, wait, cancel_futures)\u001b[0m\n\u001b[1;32m    738\u001b[0m \u001b[0;34m\u001b[0m\u001b[0m\n\u001b[1;32m    739\u001b[0m         \u001b[0;32mif\u001b[0m \u001b[0mself\u001b[0m\u001b[0;34m.\u001b[0m\u001b[0m_executor_manager_thread\u001b[0m \u001b[0;32mis\u001b[0m \u001b[0;32mnot\u001b[0m \u001b[0;32mNone\u001b[0m \u001b[0;32mand\u001b[0m \u001b[0mwait\u001b[0m\u001b[0;34m:\u001b[0m\u001b[0;34m\u001b[0m\u001b[0;34m\u001b[0m\u001b[0m\n\u001b[0;32m--> 740\u001b[0;31m             \u001b[0mself\u001b[0m\u001b[0;34m.\u001b[0m\u001b[0m_executor_manager_thread\u001b[0m\u001b[0;34m.\u001b[0m\u001b[0mjoin\u001b[0m\u001b[0;34m(\u001b[0m\u001b[0;34m)\u001b[0m\u001b[0;34m\u001b[0m\u001b[0;34m\u001b[0m\u001b[0m\n\u001b[0m\u001b[1;32m    741\u001b[0m         \u001b[0;31m# To reduce the risk of opening too many files, remove references to\u001b[0m\u001b[0;34m\u001b[0m\u001b[0;34m\u001b[0m\u001b[0;34m\u001b[0m\u001b[0m\n\u001b[1;32m    742\u001b[0m         \u001b[0;31m# objects that use file descriptors.\u001b[0m\u001b[0;34m\u001b[0m\u001b[0;34m\u001b[0m\u001b[0;34m\u001b[0m\u001b[0m\n",
      "\u001b[0;32m~/.conda/envs/data-sci/lib/python3.9/threading.py\u001b[0m in \u001b[0;36mjoin\u001b[0;34m(self, timeout)\u001b[0m\n\u001b[1;32m   1031\u001b[0m \u001b[0;34m\u001b[0m\u001b[0m\n\u001b[1;32m   1032\u001b[0m         \u001b[0;32mif\u001b[0m \u001b[0mtimeout\u001b[0m \u001b[0;32mis\u001b[0m \u001b[0;32mNone\u001b[0m\u001b[0;34m:\u001b[0m\u001b[0;34m\u001b[0m\u001b[0;34m\u001b[0m\u001b[0m\n\u001b[0;32m-> 1033\u001b[0;31m             \u001b[0mself\u001b[0m\u001b[0;34m.\u001b[0m\u001b[0m_wait_for_tstate_lock\u001b[0m\u001b[0;34m(\u001b[0m\u001b[0;34m)\u001b[0m\u001b[0;34m\u001b[0m\u001b[0;34m\u001b[0m\u001b[0m\n\u001b[0m\u001b[1;32m   1034\u001b[0m         \u001b[0;32melse\u001b[0m\u001b[0;34m:\u001b[0m\u001b[0;34m\u001b[0m\u001b[0;34m\u001b[0m\u001b[0m\n\u001b[1;32m   1035\u001b[0m             \u001b[0;31m# the behavior of a negative timeout isn't documented, but\u001b[0m\u001b[0;34m\u001b[0m\u001b[0;34m\u001b[0m\u001b[0;34m\u001b[0m\u001b[0m\n",
      "\u001b[0;32m~/.conda/envs/data-sci/lib/python3.9/threading.py\u001b[0m in \u001b[0;36m_wait_for_tstate_lock\u001b[0;34m(self, block, timeout)\u001b[0m\n\u001b[1;32m   1047\u001b[0m         \u001b[0;32mif\u001b[0m \u001b[0mlock\u001b[0m \u001b[0;32mis\u001b[0m \u001b[0;32mNone\u001b[0m\u001b[0;34m:\u001b[0m  \u001b[0;31m# already determined that the C code is done\u001b[0m\u001b[0;34m\u001b[0m\u001b[0;34m\u001b[0m\u001b[0m\n\u001b[1;32m   1048\u001b[0m             \u001b[0;32massert\u001b[0m \u001b[0mself\u001b[0m\u001b[0;34m.\u001b[0m\u001b[0m_is_stopped\u001b[0m\u001b[0;34m\u001b[0m\u001b[0;34m\u001b[0m\u001b[0m\n\u001b[0;32m-> 1049\u001b[0;31m         \u001b[0;32melif\u001b[0m \u001b[0mlock\u001b[0m\u001b[0;34m.\u001b[0m\u001b[0macquire\u001b[0m\u001b[0;34m(\u001b[0m\u001b[0mblock\u001b[0m\u001b[0;34m,\u001b[0m \u001b[0mtimeout\u001b[0m\u001b[0;34m)\u001b[0m\u001b[0;34m:\u001b[0m\u001b[0;34m\u001b[0m\u001b[0;34m\u001b[0m\u001b[0m\n\u001b[0m\u001b[1;32m   1050\u001b[0m             \u001b[0mlock\u001b[0m\u001b[0;34m.\u001b[0m\u001b[0mrelease\u001b[0m\u001b[0;34m(\u001b[0m\u001b[0;34m)\u001b[0m\u001b[0;34m\u001b[0m\u001b[0;34m\u001b[0m\u001b[0m\n\u001b[1;32m   1051\u001b[0m             \u001b[0mself\u001b[0m\u001b[0;34m.\u001b[0m\u001b[0m_stop\u001b[0m\u001b[0;34m(\u001b[0m\u001b[0;34m)\u001b[0m\u001b[0;34m\u001b[0m\u001b[0;34m\u001b[0m\u001b[0m\n",
      "\u001b[0;31mKeyboardInterrupt\u001b[0m: "
     ]
    }
   ],
   "source": [
    "for i, conf in enumerate(conferences):\n",
    "    print(conf)\n",
    "    parallelize.run_extraction(1, max_reviews[i], conf)"
   ]
  },
  {
   "cell_type": "code",
   "execution_count": 162,
   "id": "c0846eaf",
   "metadata": {
    "ExecuteTime": {
     "end_time": "2023-03-10T06:20:49.182478Z",
     "start_time": "2023-03-10T06:20:49.178703Z"
    }
   },
   "outputs": [],
   "source": [
    "def load_ce_reviews_json(st, end, conf):\n",
    "    dfs = []\n",
    "    for i in range(st, end):\n",
    "#         f = open(workdir + f'outputdata/{conf}_ce_extract_{i}.json', 'r')\n",
    "#         jsn = json.load(f)\n",
    "        dfs.append(pd.read_json(workdir + f'outputdata/{conf}_ce_extract_{i}.json'))\n",
    "    \n",
    "    return pd.concat(dfs)"
   ]
  },
  {
   "cell_type": "code",
   "execution_count": 164,
   "id": "327716e9",
   "metadata": {
    "ExecuteTime": {
     "end_time": "2023-03-10T06:20:52.067282Z",
     "start_time": "2023-03-10T06:20:52.003342Z"
    }
   },
   "outputs": [],
   "source": [
    "df = load_ce_reviews_json(1, 15, 'NIPS_2016')"
   ]
  },
  {
   "cell_type": "code",
   "execution_count": 171,
   "id": "acbb75d7",
   "metadata": {
    "ExecuteTime": {
     "end_time": "2023-03-10T06:27:59.118887Z",
     "start_time": "2023-03-10T06:27:59.103291Z"
    }
   },
   "outputs": [],
   "source": [
    "df['text_len'] = df['text'].apply(lambda t: len(t.split(' ')))\n",
    "df['sent_num'] = df['text'].apply(lambda t: len(t.split('\\n')))\n",
    "df['review_len'] = df['text'].apply(lambda t: len(t.split(' ')))"
   ]
  },
  {
   "cell_type": "code",
   "execution_count": 170,
   "id": "1cb32280",
   "metadata": {
    "ExecuteTime": {
     "end_time": "2023-03-10T06:21:41.609753Z",
     "start_time": "2023-03-10T06:21:41.602995Z"
    }
   },
   "outputs": [
    {
     "data": {
      "text/plain": [
       "count      80.00000\n",
       "mean      899.35000\n",
       "std       118.93633\n",
       "min       722.00000\n",
       "25%       825.00000\n",
       "50%       877.50000\n",
       "75%       977.00000\n",
       "max      1188.00000\n",
       "Name: review_len, dtype: float64"
      ]
     },
     "execution_count": 170,
     "metadata": {},
     "output_type": "execute_result"
    }
   ],
   "source": [
    "df['review_len'].describe()"
   ]
  }
 ],
 "metadata": {
  "kernelspec": {
   "display_name": "Python 3",
   "language": "python",
   "name": "python3"
  },
  "language_info": {
   "codemirror_mode": {
    "name": "ipython",
    "version": 3
   },
   "file_extension": ".py",
   "mimetype": "text/x-python",
   "name": "python",
   "nbconvert_exporter": "python",
   "pygments_lexer": "ipython3",
   "version": "3.9.4"
  },
  "toc": {
   "base_numbering": 1,
   "nav_menu": {},
   "number_sections": true,
   "sideBar": true,
   "skip_h1_title": false,
   "title_cell": "Table of Contents",
   "title_sidebar": "Contents",
   "toc_cell": false,
   "toc_position": {},
   "toc_section_display": true,
   "toc_window_display": false
  }
 },
 "nbformat": 4,
 "nbformat_minor": 5
}
